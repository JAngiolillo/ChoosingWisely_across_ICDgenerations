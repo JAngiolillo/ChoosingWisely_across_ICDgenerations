{
 "cells": [
  {
   "cell_type": "markdown",
   "metadata": {},
   "source": [
    "## Consolidating Annotations\n",
    "Numerator v. Not Numerator"
   ]
  },
  {
   "cell_type": "markdown",
   "metadata": {},
   "source": [
    "This notebook preprocesses the manually reviewed annotations which were prepared by serial reviews. Their formatting between reviews changed slightly, and needs standardization before comparison. This notebook exports the preprocessed annotations in three files, grouped by annotation set, and whether the metric denominators are defined by service provided (eg cataracts surgery) or by diagnosis (eg low back pain)."
   ]
  },
  {
   "cell_type": "code",
   "execution_count": null,
   "metadata": {},
   "outputs": [],
   "source": [
    "from cw_package.setup_cw_env import *\n",
    "from pylab import *\n",
    "from cw_package import prDF\n",
    "import pickle\n",
    "jacks_verification"
   ]
  },
  {
   "cell_type": "code",
   "execution_count": null,
   "metadata": {},
   "outputs": [],
   "source": [
    "from au_package import assess_agreement, prep_Au_standard, standardize_flags, prep_Auseibert_standard\n",
    "from au_package import stitch_metricterms, flag_checker"
   ]
  },
  {
   "cell_type": "code",
   "execution_count": null,
   "metadata": {},
   "outputs": [],
   "source": [
    "coded_date = '2017_07_12allfeedwith_I10'\n",
    "earliest_date= '2016_04_01'\n",
    "time_period= ['2016_4','2016_5','2016_6','2016_7','2016_8','2016_9']\n",
    "elevenkeys= ['CW_cerv','CW_card','CW_vitd','CW_bph','CW_lbp','CW_feed','CW_psyc','CW_dexa','CW_narc',\n",
    "             'CW_nonpreop','CW_catpreop']\n",
    "stdflag_string= 'as_annotated'"
   ]
  },
  {
   "cell_type": "code",
   "execution_count": null,
   "metadata": {},
   "outputs": [],
   "source": [
    "# simple rule to ensure parameter for standardize_flags() will be valid\n",
    "flag_checker(stdflag_string)"
   ]
  },
  {
   "cell_type": "code",
   "execution_count": null,
   "metadata": {},
   "outputs": [],
   "source": [
    "#os.mkdir('preprocessed/')\n",
    "try:\n",
    "    os.mkdir('preprocessed/'+coded_date)\n",
    "except:\n",
    "    pass"
   ]
  },
  {
   "cell_type": "code",
   "execution_count": null,
   "metadata": {},
   "outputs": [],
   "source": [
    "# Import the original annotation spreadsheets, that have been manually \"reculled\" by removing duplicate/inappropriate records\n",
    "#     Repeat the import b/c the annotations will be standardized in different ways by the 'prep_Au_standard()' method\n",
    "Au_num_r={}\n",
    "Au_den_r={}\n",
    "Au_num_all={}\n",
    "Au_den_all={}\n",
    "for x in elevenkeys:\n",
    "    try:\n",
    "        print(x)\n",
    "        Au_num_r[x]=pd.read_excel('../selfreview/Annotations_for_use/FINAL/old_Numerator_reviewedJuly.xlsx', header=0, sheetname=x)\n",
    "        Au_den_r[x]=pd.read_excel('../selfreview/Annotations_for_use/FINAL/old_Denominator_reviewedJuly.xlsx', header=0, sheetname=x)\n",
    "        Au_num_all[x]=pd.read_excel('../selfreview/Annotations_for_use/FINAL/old_Numerator_reviewedJuly.xlsx', header=0, sheetname=x)\n",
    "        Au_den_all[x]=pd.read_excel('../selfreview/Annotations_for_use/FINAL/old_Denominator_reviewedJuly.xlsx', header=0, sheetname=x)\n",
    "    except:\n",
    "        print('exception passed for {}'.format(x))\n",
    "        pass\n",
    "\n"
   ]
  },
  {
   "cell_type": "markdown",
   "metadata": {},
   "source": [
    "## Standardize All Annotations"
   ]
  },
  {
   "cell_type": "markdown",
   "metadata": {},
   "source": [
    "#### Standardize the Original Annotations\n",
    "__r   suffix_ indicates restriction to time_period <br>\n",
    "__all suffix_ indicates NO restriction to time_period"
   ]
  },
  {
   "cell_type": "code",
   "execution_count": null,
   "metadata": {},
   "outputs": [],
   "source": [
    "# RESTRICT TO TIME PERIOD\n",
    "elevenkeys_trunc= ['CW_cerv','CW_card','CW_vitd','CW_dexa','CW_nonpreop','CW_catpreop']\n",
    "(Au_num_r, Au_den_r)= prep_Au_standard(elevenkeys_trunc, Au_num_r, Au_den_r, time_period, restrict_to_timeperiod=True)\n",
    "# NO RESTRICTION\n",
    "(Au_num_all, Au_den_all)= prep_Au_standard(elevenkeys_trunc, Au_num_all, Au_den_all, time_period, restrict_to_timeperiod=False)\n"
   ]
  },
  {
   "cell_type": "code",
   "execution_count": null,
   "metadata": {},
   "outputs": [],
   "source": [
    "# Specifically tailored to original annotations' contents\n",
    "Au_cerv_r =     {'Metric':'CW_cerv','Numerator':Au_num_r['CW_cerv'],'Denominator': Au_den_r['CW_cerv']}\n",
    "Au_card_r=      {'Metric':'CW_card','Numerator':Au_num_r['CW_card'],'Denominator': Au_den_r['CW_card']}\n",
    "Au_nonpreop_r = {'Metric':'CW_nonpreop','Numerator':Au_num_r['CW_nonpreop'],'Denominator':  Au_den_r['CW_nonpreop']}\n",
    "Au_catpreop_r = {'Metric':'CW_catpreop','Numerator':Au_num_r['CW_catpreop'],'Denominator': Au_den_r['CW_catpreop']}\n",
    "Au_dexa_r =     {'Metric':'CW_dexa','Numerator':Au_num_r['CW_dexa'], 'Denominator': Au_den_r['CW_dexa']}\n",
    "Au_vitd_r =     {'Metric':'CW_vitd','Numerator':Au_num_r['CW_vitd'], 'Denominator':  Au_den_r['CW_vitd']}\n",
    "#Au_feed_r =     {'Metric':'CW_feed','Numerator':Au_num_r['CW_feed'], 'Denominator': Au_den_r['CW_feed']}\n",
    "#Au_psyc_r =     {'Metric':'CW_psyc','Numerator':Au_num_r['CW_psyc'],'Denominator': Au_den_r['CW_psyc']}\n",
    "#Au_narc_r =     {'Metric':'CW_narc','Numerator':Au_num_r['CW_narc'],'Denominator': Au_den_r['CW_narc']}\n",
    "#Au_bph_r =      {'Metric':'CW_bph','Numerator':Au_num_r['CW_bph'],'Denominator': Au_den_r['CW_bph']}"
   ]
  },
  {
   "cell_type": "code",
   "execution_count": null,
   "metadata": {},
   "outputs": [],
   "source": [
    "treasurechest_r = [Au_cerv_r, Au_card_r, \n",
    "                   Au_nonpreop_r, Au_catpreop_r, \n",
    "                   #Au_bph_r, Au_feed_r, Au_psyc_r, Au_narc_r,\n",
    "                   Au_dexa_r, Au_vitd_r]\n",
    "\n",
    "archive_tc_r  =treasurechest_r"
   ]
  },
  {
   "cell_type": "markdown",
   "metadata": {},
   "source": [
    "#### Take a moment to pickle the prepped - but not standardized - original Gold Standards"
   ]
  },
  {
   "cell_type": "code",
   "execution_count": null,
   "metadata": {},
   "outputs": [],
   "source": [
    "f= open('preprocessed/'+coded_date+'/pickled_treasurechest_r_'+coded_date+'.p','w')\n",
    "pickle.dump(treasurechest_r, f)\n",
    "f.close()"
   ]
  },
  {
   "cell_type": "code",
   "execution_count": null,
   "metadata": {},
   "outputs": [],
   "source": [
    "\"\"\"\n",
    "#########################################################################3\n",
    "## Don't need these, which include annotations from outside analyzed period\n",
    "Au_cerv_all =     {'Metric':'CW_cerv','Numerator':Au_num_all['CW_cerv'],'Denominator': Au_den_all['CW_cerv']}\n",
    "Au_card_all=      {'Metric':'CW_card','Numerator':Au_num_all['CW_card'],'Denominator': Au_den_all['CW_card']}\n",
    "Au_nonpreop_all = {'Metric':'CW_nonpreop','Numerator':Au_num_all['CW_nonpreop'],'Denominator':  Au_den_all['CW_nonpreop']}\n",
    "Au_catpreop_all = {'Metric':'CW_catpreop','Numerator':Au_num_all['CW_catpreop'],'Denominator': Au_den_all['CW_catpreop']}\n",
    "Au_dexa_all =     {'Metric':'CW_dexa','Numerator':Au_num_all['CW_dexa'], 'Denominator': Au_den_all['CW_dexa']}\n",
    "Au_vitd_all =     {'Metric':'CW_vitd','Numerator':Au_num_all['CW_vitd'], 'Denominator':  Au_den_all['CW_vitd']}\n",
    "#Au_feed_all =     {'Metric':'CW_feed','Numerator':Au_num_all['CW_feed'], 'Denominator': Au_den_all['CW_feed']}\n",
    "#Au_psyc_all =     {'Metric':'CW_psyc','Numerator':Au_num_all['CW_psyc'],'Denominator': Au_den_all['CW_psyc']}\n",
    "#Au_narc_all =     {'Metric':'CW_narc','Numerator':Au_num_all['CW_narc'],'Denominator': Au_den_all['CW_narc']}\n",
    "#Au_bph_all =      {'Metric':'CW_bph','Numerator':Au_num_all['CW_bph'],'Denominator': Au_den_all['CW_bph']}\n",
    "\n",
    "\n",
    "treasurechest_all = [Au_cerv_all, Au_card_all, \n",
    "                     Au_nonpreop_all, Au_catpreop_all,\n",
    "                     #Au_bph_all, Au_feed_all, Au_psyc_all, Au_narc_all, \n",
    "                     Au_dexa_all, Au_vitd_all]\n",
    "\n",
    "archive_tc_all=treasurechest_all\n",
    "\n",
    "\n",
    "\n",
    "f= open('preprocessed/'+coded_date+'/pickled_treasurechest_all_'+coded_date+'.p','w')\n",
    "pickle.dump(treasurechest_all, f)\n",
    "f.close()\n",
    "\"\"\""
   ]
  },
  {
   "cell_type": "markdown",
   "metadata": {},
   "source": [
    "## Standardize later (Seibert) annotations"
   ]
  },
  {
   "cell_type": "code",
   "execution_count": null,
   "metadata": {},
   "outputs": [],
   "source": [
    "# Load second annotations, performed by Seibert\n",
    "Au_seibert_1={}\n",
    "Au_seibert_2={}\n",
    "for x in elevenkeys:\n",
    "    try:\n",
    "        \n",
    "        Au_seibert_1[x]=pd.read_excel('../selfreview/Annotations_for_use/FINAL/new_FirstSeibert_feb28_reviewedJuly.xlsx', header=0, sheetname=x)\n",
    "        Au_seibert_1[x]['TEST_DATE_month']=pd.to_datetime(Au_seibert_1[x]['TEST_DATE_a']).apply(lambda x:str(x.year)+'_'+str(x.month))\n",
    "        print('imported {}'.format(x))\n",
    "    except:\n",
    "        print('exception passed for {}'.format(x))\n",
    "        pass"
   ]
  },
  {
   "cell_type": "code",
   "execution_count": null,
   "metadata": {},
   "outputs": [],
   "source": [
    "print('\\n second set of annotations by Seibert \\n')\n",
    "for x in elevenkeys:\n",
    "    try:\n",
    "        Au_seibert_2[x]=pd.read_excel('../selfreview/Annotations_for_use/FINAL/new_SecondSeibert_may14_reviewedJuly.xlsx', header=0, sheetname=x)\n",
    "        Au_seibert_2[x]['TEST_DATE_month']=pd.to_datetime(Au_seibert_2[x]['TEST_DATE_a']).apply(lambda x:str(x.year)+'_'+str(x.month))\n",
    "        print('imported {}'.format(x))\n",
    "    except:\n",
    "        print('exception passed for {}'.format(x))\n",
    "        pass"
   ]
  },
  {
   "cell_type": "code",
   "execution_count": null,
   "metadata": {},
   "outputs": [],
   "source": [
    "Au_s1_standardized= prep_Auseibert_standard(elevenkeys, Au_seibert_1, time_period, restrict_to_timeperiod=True)\n",
    "print('\\n\\npart 2\\n_________________\\n')\n",
    "Au_s2_standardized= prep_Auseibert_standard(elevenkeys, Au_seibert_2, time_period, restrict_to_timeperiod=True)"
   ]
  },
  {
   "cell_type": "code",
   "execution_count": null,
   "metadata": {},
   "outputs": [],
   "source": [
    "# Specifically tailored to seibert first annotations' contents\n",
    "Au_s1_cerv_r =     {'Metric':'CW_cerv','Annotated':Au_s1_standardized['CW_cerv']}\n",
    "Au_s1_card_r=      {'Metric':'CW_card','Annotated':Au_s1_standardized['CW_card']}\n",
    "Au_s1_vitd_r =     {'Metric':'CW_vitd','Annotated':Au_s1_standardized['CW_vitd']}\n",
    "Au_s1_catpreop_r = {'Metric':'CW_catpreop','Annotated':Au_s1_standardized['CW_catpreop']}\n",
    "Au_s1_dexa_r =     {'Metric':'CW_dexa','Annotated':Au_s1_standardized['CW_dexa']}\n",
    "Au_s1_nonpreop_r = {'Metric':'CW_nonpreop','Annotated':Au_s1_standardized['CW_nonpreop']}\n",
    "\n",
    "# Specifically tailored to original annotations' contents\n",
    "Au_s2_bph_r =      {'Metric':'CW_bph','Annotated':Au_s2_standardized['CW_bph']}\n",
    "Au_s2_lbp_r =      {'Metric':'CW_lbp','Annotated':Au_s2_standardized['CW_lbp']}\n",
    "Au_s2_feed_r =     {'Metric':'CW_feed','Annotated':Au_s2_standardized['CW_feed']}\n",
    "Au_s2_psyc_r =     {'Metric':'CW_psyc','Annotated':Au_s2_standardized['CW_psyc']}\n",
    "Au_s2_narc_r =     {'Metric':'CW_narc','Annotated':Au_s2_standardized['CW_narc']}\n"
   ]
  },
  {
   "cell_type": "code",
   "execution_count": null,
   "metadata": {},
   "outputs": [],
   "source": [
    "treasurechest_s1_r = [Au_s1_cerv_r, \n",
    "                      Au_s1_card_r, \n",
    "                      Au_s1_catpreop_r, \n",
    "                      Au_s1_vitd_r,\n",
    "                      Au_s1_dexa_r,\n",
    "                      Au_s1_nonpreop_r]\n",
    "\n",
    "treasurechest_s2_r = [Au_s2_bph_r, \n",
    "                      Au_s2_lbp_r, \n",
    "                      Au_s2_feed_r, \n",
    "                      Au_s2_psyc_r, \n",
    "                      Au_s2_narc_r ]"
   ]
  },
  {
   "cell_type": "code",
   "execution_count": null,
   "metadata": {},
   "outputs": [],
   "source": [
    "\n",
    "f= open('preprocessed/'+coded_date+'/pickled_treasurechest_s1_r_'+coded_date+'.p','w')\n",
    "pickle.dump(treasurechest_s1_r, f)\n",
    "f.close()\n",
    "\n",
    "\n",
    "f= open('preprocessed/'+coded_date+'/pickled_treasurechest_s2_r_'+coded_date+'.p','w')\n",
    "pickle.dump(treasurechest_s2_r, f)\n",
    "f.close()"
   ]
  },
  {
   "cell_type": "markdown",
   "metadata": {},
   "source": [
    "## *******Prepping for this notebook is complete********\n",
    "What follows is just for visualization"
   ]
  },
  {
   "cell_type": "code",
   "execution_count": null,
   "metadata": {},
   "outputs": [],
   "source": [
    "\"\"\"# Create unified dataframe with all rows on single structure\n",
    "for x in treasurechest_r:\n",
    "    print(x['Metric'])\n",
    "    x['linked']=pd.concat([standardize_flags(x['Numerator'],stdflag_string),standardize_flags(x['Denominator'],stdflag_string)],axis=0)\n",
    "    # following line makes sure that incident_service counted once if it was in both numerator and denominator\n",
    "    x['linked_a']=x['linked'].groupby(['MRN','TEST_CODE','Term_assessed','TEST_DATE_month','Gold_Standard']).count()\n",
    "    x['linked_a']=x['linked_a'].reset_index()\n",
    "    x['linked_a']['Metric']=x['Metric']\"\"\""
   ]
  },
  {
   "cell_type": "code",
   "execution_count": null,
   "metadata": {},
   "outputs": [],
   "source": [
    "\"\"\"for x in treasurechest_all:\n",
    "    print(x['Metric'])\n",
    "    x['linked']=pd.concat([standardize_flags(x['Numerator'],'as_annotated'),standardize_flags(x['Denominator'],'as_annotated')],axis=0)\n",
    "    # following line makes sure that incident_service counted once if it was in both numerator and denominator\n",
    "    x['linked_a']=x['linked'].groupby(['MRN','TEST_CODE','Term_assessed','TEST_DATE_month','Gold_Standard']).count()\n",
    "    x['linked_a']=x['linked_a'].reset_index()\n",
    "    x['linked_a']['Metric']=x['Metric']\n",
    "    \"\"\""
   ]
  },
  {
   "cell_type": "markdown",
   "metadata": {},
   "source": [
    "## Counts of available annotations"
   ]
  },
  {
   "cell_type": "code",
   "execution_count": null,
   "metadata": {},
   "outputs": [],
   "source": [
    "\"\"\"annotation_tally_r={}\n",
    "for x in treasurechest_r:\n",
    "    try:\n",
    "        placeholder= x['linked_a'].groupby('Term_assessed')['Metric'].count()\n",
    "        placeholder_d = placeholder.to_dict()\n",
    "        annotation_tally_r[x['Metric']]=placeholder_d\n",
    "    except:\n",
    "        print('passing')\n",
    "        pass\"\"\""
   ]
  },
  {
   "cell_type": "code",
   "execution_count": null,
   "metadata": {},
   "outputs": [],
   "source": [
    "\"\"\"annotation_tally_all={}\n",
    "for x in treasurechest_all:\n",
    "    try:\n",
    "        placeholder= x['linked_a'].groupby('Term_assessed')['Metric'].count()\n",
    "        placeholder_d = placeholder.to_dict()\n",
    "        annotation_tally_all[x['Metric']]=placeholder_d\n",
    "    except:\n",
    "        print('passing')\n",
    "        pass\"\"\""
   ]
  },
  {
   "cell_type": "code",
   "execution_count": null,
   "metadata": {},
   "outputs": [],
   "source": [
    "\"\"\"r_tally=pd.DataFrame.from_dict(annotation_tally_r, orient='index')\n",
    "r_tally.rename(columns={'Numer':'Numerators w/in time period','Not_Numer':'Not Numerators w/in time period'},inplace=True)\n",
    "all_tally=pd.DataFrame.from_dict(annotation_tally_all, orient='index')\n",
    "all_tally.rename(columns={'Numer':'Numerators all dates','Not_Numer':'Not Numerators all dates'},inplace=True)\n",
    "\n",
    "together_tally = pd.concat([r_tally, all_tally], axis=1)\"\"\""
   ]
  },
  {
   "cell_type": "markdown",
   "metadata": {},
   "source": [
    "## Export the tallies of annotations"
   ]
  },
  {
   "cell_type": "code",
   "execution_count": null,
   "metadata": {},
   "outputs": [],
   "source": [
    "\"\"\"export=together_tally.fillna('')[['Numerators w/in time period','Numerators all dates','Not Numerators w/in time period','Not Numerators all dates']]\n",
    "export.to_csv('./exported/Final Charts/'+coded_date+'/tally_of_availableannotations_'+coded_date+'_data.csv')\"\"\""
   ]
  },
  {
   "cell_type": "code",
   "execution_count": null,
   "metadata": {},
   "outputs": [],
   "source": []
  }
 ],
 "metadata": {
  "kernelspec": {
   "display_name": "Python 3",
   "language": "python",
   "name": "python3"
  },
  "language_info": {
   "codemirror_mode": {
    "name": "ipython",
    "version": 3
   },
   "file_extension": ".py",
   "mimetype": "text/x-python",
   "name": "python",
   "nbconvert_exporter": "python",
   "pygments_lexer": "ipython3",
   "version": "3.7.0"
  }
 },
 "nbformat": 4,
 "nbformat_minor": 1
}
