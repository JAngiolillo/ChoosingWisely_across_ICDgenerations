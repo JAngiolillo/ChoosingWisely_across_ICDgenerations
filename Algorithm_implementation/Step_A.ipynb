{
 "cells": [
  {
   "cell_type": "markdown",
   "metadata": {},
   "source": [
    "# Choosing Wisely Metrics\n",
    "(ICD9 and ICD10 compatible) <br>\n",
    "This algorithm was developed by Colin Walsh's group at Vanderbilt University Medical Center to implement 11 Choosing Wisely metrics using criteria defined by Colla et al. (JGIM 2014) on ICD-10 based patient data. \n",
    "\n",
    "This notebook has the following parts:\n",
    "1) Set-up environment <br>\n",
    "2) Load reference data, with preprocessing <br>\n",
    "3) Load patient data from SQL server, with preprocessing <br>\n",
    "4) Load General Equivalence Mappings, with preprocessing <br>\n",
    "5) Instantiate 11 classes, one for each of the 11 metrics <br>\n",
    "6) Calculate the each metric's prevalence, using different mapping/harmonization methods <br>\n",
    "7) Consoliate and export results <br>\n",
    "\n",
    "[Last edited Dec 15, 2018, J Angiolillo]"
   ]
  },
  {
   "cell_type": "code",
   "execution_count": null,
   "metadata": {},
   "outputs": [],
   "source": [
    "import os\n",
    "os.getcwd()"
   ]
  },
  {
   "cell_type": "code",
   "execution_count": null,
   "metadata": {},
   "outputs": [],
   "source": [
    "# import most basic tools\n",
    "from cw_package.setup_cw_env import *\n",
    "from pylab import *\n",
    "import pickle, sys, re\n",
    "jacks_verification"
   ]
  },
  {
   "cell_type": "code",
   "execution_count": null,
   "metadata": {},
   "outputs": [],
   "source": [
    "\"\"\"\n",
    "This block of code preps a report on a monthly basis, as specified\n",
    "and saves it as named to the location identified below.\n",
    "\"\"\"\n",
    "reportStart='2014-03-31' \n",
    "claimsStart='2015-03-31'\n",
    "reportOnMonths=['2016_4','2016_5','2016_6','2016_7','2016_8','2016_9']\n",
    "demoStartDate='2016-04-01'\n",
    "demoEndDate='2016-10-01'\n",
    "admsEndDate='2016-12-01'\n",
    "coded_date = '2017_07_12allfeedwith_I10' # export path name"
   ]
  },
  {
   "cell_type": "code",
   "execution_count": null,
   "metadata": {},
   "outputs": [],
   "source": [
    "# build the directories for exporting results\n",
    "try:\n",
    "    os.mkdir('exported/'+coded_date)\n",
    "    os.mkdir('exported/Final Charts/'+coded_date)\n",
    "except:\n",
    "    pass"
   ]
  },
  {
   "cell_type": "code",
   "execution_count": null,
   "metadata": {},
   "outputs": [],
   "source": [
    "#  # this was abandoned, and non functional\n",
    "# def incrementmonth(str_x):\n",
    "#     if str_x[-1]=='9':\n",
    "#         str_x=str_x[:-2]+'10'\n",
    "#     elif str_x[-2:]=='12':\n",
    "#         year=str_x[:-3]\n",
    "#         year=str(int(year)+1)\n",
    "#         str_x=year+'-'+'01'        \n",
    "#     else:\n",
    "#         str_x=str_x[:-1]+str(int(str_x[-1])+1)\n",
    "#     return str_x\n",
    "\n",
    "# m1=demoStartDate[:7]\n",
    "# m2=incrementmonth(m1)\n",
    "# m3=incrementmonth(m2)\n",
    "# m4=incrementmonth(m3)\n",
    "# m5=incrementmonth(m4)\n",
    "# m6=incrementmonth(m5)\n",
    "# enddt=incrementmonth(m6)\n",
    "\n",
    "# print(enddt)"
   ]
  },
  {
   "cell_type": "markdown",
   "metadata": {},
   "source": [
    "### Import needed modules"
   ]
  },
  {
   "cell_type": "code",
   "execution_count": null,
   "metadata": {},
   "outputs": [],
   "source": [
    "# import simple utility modules\n",
    "from cw_package import add_age, add_month, timeBtwnDex, calculate_age, downloadDemographicsByDate, subsetByDemographics#, output_monthly\n",
    "from cw_package import prDF\n",
    "from cw_package import cwsql_codeviewer\n",
    "from cw_package import df_claimtrimmer"
   ]
  },
  {
   "cell_type": "code",
   "execution_count": null,
   "metadata": {},
   "outputs": [],
   "source": [
    "## Import main functions\n",
    "#    preprocessing and completing general equivalence mappings\n",
    "from cw_package import createuniquemap, simplify_xgem, seeambiguousmaps\n",
    "#    preprocessing claims data\n",
    "from cw_package import preprocessingclaims\n",
    "#    methods for parsing reference tables and applying them to patient data\n",
    "from cw_package import keepindications_removeexclusions, vect_mrn\n",
    "#    Class definition for the metric\n",
    "from cw_package import MetricClass\n",
    "#    debugging method for inspecting single metric in single GEM implementation --- requires editing code as needed\n",
    "from cw_package import testallwisely"
   ]
  },
  {
   "cell_type": "markdown",
   "metadata": {},
   "source": [
    "### Load in Reference Criteria, on ICD9 basis"
   ]
  },
  {
   "cell_type": "code",
   "execution_count": null,
   "metadata": {},
   "outputs": [],
   "source": [
    "\"\"\"\n",
    "This block loads in the reference arrays/dataframes adapted from Colla et al's JGIM paper.\n",
    "which will be used for parsing parse claims and service data\n",
    "\"\"\"\n",
    "#This sheet includes the lookups for the context of services/procedures being questioned by CW (ie \"low back pain\"):\n",
    "            ## NOTE: indications ref-table is altered by Jack - surgical proc removed\n",
    "indications=pd.read_excel('./ref/IndicationsLookup_wo_op_20170211a.xlsx',header=0) \n",
    "#This sheet includes valid reasons for service, not wasteful:\n",
    "#redflags=pd.read_excel('./ref/RedFlagsLookup_20170211a.xlsx',header=0) ### this is the old original file\n",
    "redflags=pd.read_csv('./ref/Redflags_c_EandPcodes_20170322.csv')\n",
    "#This sheet includes services that fall in bin of the CW-service\n",
    "services=pd.read_excel('./ref/ServiceLookup_20170420.xlsx',header=0) \n",
    "#This sheet gives parameters of patients searched over\n",
    "democriteria=pd.read_excel('./ref/DemoLookup_20160630.xlsx',header=0) \n",
    "#This is specific to preop CW; selecting all the CPT codes that fall within legacy BETOS codes\n",
    "preopref=pd.read_csv('./ref/SurgeryBETOSCPTLookup_20160329.csv',header=0) "
   ]
  },
  {
   "cell_type": "markdown",
   "metadata": {},
   "source": [
    "Preprocess ICD-9 Reference Criteria"
   ]
  },
  {
   "cell_type": "code",
   "execution_count": null,
   "metadata": {},
   "outputs": [],
   "source": [
    "# Preprocessing reference data: Typing and Cleaning\n",
    "\n",
    "#services.code=services.code.apply(lambda x:str(x).lower()) ## services codes should not be forced to lower case\n",
    "services['code']=services['code'].apply(lambda x: str(x).replace('.',''))\n",
    "#\n",
    "redflags['subcode']=redflags['code'].apply(lambda x: str(x).replace('.',''))\n",
    "indications['subcode']=indications['code'].apply(lambda x: str(x).replace('.',''))\n",
    "# Deal with StartsWith Problem\n",
    "# Create a startWith column\n",
    "# Populate it with \"1's\" if subcode includes an x\n",
    "# Now remove Xs\n",
    "services['startWith']=0\n",
    "services['code']=services['code'].apply(lambda x: str(x).replace('X','x'))\n",
    "services['startWith'].loc[services['code'].str[-1]=='x']=1\n",
    "services['code']=services['code'].apply(lambda x: str(x).replace('x',''))\n",
    "\n",
    "redflags['startWith']=0\n",
    "redflags['subcode']=redflags['subcode'].apply(lambda x: str(x).replace('X','x'))\n",
    "redflags['startWith'].loc[redflags['subcode'].str[-1]=='x']=1\n",
    "redflags['subcode']=redflags['subcode'].apply(lambda x: str(x).replace('x',''))\n",
    "\n",
    "indications['startWith']=0\n",
    "indications['subcode']=indications['subcode'].apply(lambda x: str(x).replace('X','x'))\n",
    "indications['startWith'].loc[indications['subcode'].str[-1]=='x']=1\n",
    "indications['subcode']=indications['subcode'].apply(lambda x: str(x).replace('x',''))\n",
    "print('done.')"
   ]
  },
  {
   "cell_type": "code",
   "execution_count": null,
   "metadata": {},
   "outputs": [],
   "source": [
    "#Checkpoint\n",
    "len(indications),len(redflags),len(services),len(democriteria)\n",
    "print('completed.')"
   ]
  },
  {
   "cell_type": "markdown",
   "metadata": {
    "collapsed": true
   },
   "source": [
    "Load ICD-10 reference data"
   ]
  },
  {
   "cell_type": "code",
   "execution_count": null,
   "metadata": {},
   "outputs": [],
   "source": [
    "# Load the Novel ICD-10 to ICD-10 reference tables developed by Harbor Lab/Colin Walsh\n",
    "# sheet names here specify the final tables implemented from the file.\n",
    "indic_10 = pd.read_excel('./ref/ICD10_basis/I10_New_reftables2017_04_25.xlsx', sheetname='indications_w_ICD10')\n",
    "#red_10   =  pd.read_excel('./ref/ICD10_basis/I10_New_reftables2017_04_25.xlsx', sheetname='redflags_ICD10_wHCCCCS_Apr20') # this was old redflags table, not-used for final data\n",
    "red_10   =  pd.read_excel('./ref/ICD10_basis/I10_New_reftables2017_04_25.xlsx', sheetname='redflags_ICD10_wo_I10htn')\n",
    "serv_10  = pd.read_excel('./ref/ICD10_basis/I10_New_reftables2017_04_25.xlsx', sheetname='services_w_ICD10_wo_dxcodes')"
   ]
  },
  {
   "cell_type": "code",
   "execution_count": null,
   "metadata": {},
   "outputs": [],
   "source": [
    "# get rid of extra,hidden preprocessing\n",
    "red_10=red_10[['category','class','old_code','code','key','label']]"
   ]
  },
  {
   "cell_type": "code",
   "execution_count": null,
   "metadata": {},
   "outputs": [],
   "source": [
    "# Preprocess novel ICD-10 reference data\n",
    "indic_10['subcode']=indic_10['code'].apply(lambda x: str(x).replace('.',''))\n",
    "indic_10['startWith']=0\n",
    "indic_10['startWith'].loc[indic_10['subcode'].str.contains('_',case=False)]=1\n",
    "indic_10['subcode']=indic_10['subcode'].apply(lambda x: str(x).replace('_',''))\n",
    "indic_10=indic_10[['label','code','class','key','subcode','startWith']]\n",
    "\n",
    "red_10['subcode']=red_10['code'].apply(lambda x: str(x).replace('.',''))\n",
    "red_10['startWith']=0\n",
    "red_10['startWith'].loc[red_10['subcode'].str.contains('_',case=False)]=1\n",
    "red_10['subcode']=red_10['subcode'].apply(lambda x: str(x).replace('_',''))\n",
    "\n",
    "serv_10.code = serv_10.code.apply(lambda x: str(x).replace('.',''))\n",
    "serv_10['startWith']=0\n",
    "serv_10['startWith'].loc[serv_10['code'].str.contains('_',case=False)]=1\n",
    "serv_10['code'] = serv_10['code'].apply(lambda x: str(x).replace('_',''))"
   ]
  },
  {
   "cell_type": "code",
   "execution_count": null,
   "metadata": {},
   "outputs": [],
   "source": [
    "# restrict columns\n",
    "red_10=red_10[['label','category','old_code','code','class','key','subcode','startWith']]"
   ]
  },
  {
   "cell_type": "markdown",
   "metadata": {},
   "source": [
    "Get rid of redundant subcodes/stems within each metric, keep at least one of them"
   ]
  },
  {
   "cell_type": "code",
   "execution_count": null,
   "metadata": {},
   "outputs": [],
   "source": [
    "red_10.drop_duplicates(subset = ['class','key','subcode','startWith'], keep='first', inplace=True)\n",
    "indic_10.drop_duplicates(subset=['class','key','subcode','startWith'], keep='first', inplace=True)"
   ]
  },
  {
   "cell_type": "markdown",
   "metadata": {},
   "source": [
    "### Load and preprocess other reference tables (ICD9 descriptions, NHAMCSref, HCC, CCS)"
   ]
  },
  {
   "cell_type": "code",
   "execution_count": null,
   "metadata": {},
   "outputs": [],
   "source": [
    "#os.chdir('..')"
   ]
  },
  {
   "cell_type": "code",
   "execution_count": null,
   "metadata": {},
   "outputs": [],
   "source": [
    "# load terminologies' labels\n",
    "icdref=pd.read_pickle('././pickle/icdref.p')\n",
    "nhamcsref=pd.read_table('./ref/DrugCodeLookupTable.txt',header=0)"
   ]
  },
  {
   "cell_type": "code",
   "execution_count": null,
   "metadata": {},
   "outputs": [],
   "source": [
    "# load more terminologies' maps (ICD to HCC)\n",
    "##ICD9 HCC Codes\n",
    "\"\"\" \n",
    "    HCC codes are maintained by CMS, there are more than 200 (only ~79 used in risk adjustment)\n",
    "\"\"\"\n",
    "hccref={} \n",
    "# following lines load the HCC references for ICD-9 and ICD-10 into the reference dictionary\n",
    "hccref['9']=pd.read_pickle('./pickle/hccref.p')\n",
    "hccref['9'].rename(columns={'2013 CMS-HCC Model Category':'hcclev'},inplace=True)\n",
    "##ICD10 HCC Codes\n",
    "hccref['10']=pd.read_csv('./ref/hccCodesFormatted2016_ICD10.csv',header=0)\n",
    "hccref['10'].rename(columns={'Diagnosis Code':'subcode','CMS-HCC PACE/ESRD Model Category V21':'hcclev'},inplace=True)\n"
   ]
  },
  {
   "cell_type": "code",
   "execution_count": null,
   "metadata": {},
   "outputs": [],
   "source": [
    "# more HCC reference maps\n",
    "# to capture the history of remote cancer\n",
    "jackhcc9 = pd.read_excel('./ref/additional hcc codes.xlsx', sheetname='ICD9')\n",
    "jackhcc10 = pd.read_excel('./ref/additional hcc codes.xlsx', sheetname='ICD10')\n",
    "\n",
    "jackhcc9['subcode'] = jackhcc9['code'].apply(lambda x: str(x).replace('.',''))\n",
    "jackhcc9['hcclev']=   jackhcc9['hcclev'].apply(lambda x: str(x))\n",
    "jackhcc10['subcode'] = jackhcc10['code'].apply(lambda x: str(x).replace('.',''))\n",
    "jackhcc10['hcclev']=   jackhcc10['hcclev'].apply(lambda x: str(x))\n",
    "\n",
    "jackhcc9.drop('code', axis=1, inplace=True)\n",
    "jackhcc10.drop('code', axis=1,inplace=True)"
   ]
  },
  {
   "cell_type": "code",
   "execution_count": null,
   "metadata": {},
   "outputs": [],
   "source": [
    "hccref['9']= pd.concat([hccref['9'],jackhcc9])\n",
    "hccref['10']=pd.concat([hccref['10'],jackhcc10])"
   ]
  },
  {
   "cell_type": "code",
   "execution_count": null,
   "metadata": {},
   "outputs": [],
   "source": [
    "# load CCS reference maps (ICD to CCS)\n",
    "\"\"\" \n",
    "    CCS codes are maintained by AHRQ\n",
    "\"\"\"\n",
    "ccsref={}\n",
    "ccsref['9']=pd.read_csv('./ref/ccsCodesFormatted2015.csv',header=0)\n",
    "#print(type(ccsref['9']))\n",
    "ccsref['9']=ccsref['9'].apply(lambda x:x.str.replace(\"'\",''))\n",
    "ccsref['9'].rename(columns={\"'ICD-9-CM CODE'\":'subcode',\"'CCS CATEGORY'\":'ccslev'},inplace=True)\n",
    "ccsref['10']=pd.read_csv('./ref/ccsCodesFormatted2016_ICD10.csv',header=0)\n",
    "ccsref['10']=ccsref['10'].apply(lambda x:x.str.replace(\"'\",''))\n",
    "ccsref['10'].rename(columns={\"'ICD-10-CM CODE'\":'subcode',\"'CCS CATEGORY'\":'ccslev'},inplace=True)\n",
    "# following two lines of code remove extraneous spaces from integers\n",
    "ccsref['9']['ccslev']=ccsref['9']['ccslev'].apply(lambda x:int(x.replace(\" \",'')))\n",
    "ccsref['10']['ccslev']=ccsref['10']['ccslev'].apply(lambda x:int(x.replace(\" \",'')))"
   ]
  },
  {
   "cell_type": "markdown",
   "metadata": {},
   "source": [
    "Remove any trailing spaces from 'subcode' strings"
   ]
  },
  {
   "cell_type": "code",
   "execution_count": null,
   "metadata": {},
   "outputs": [],
   "source": [
    "hccref['9']['subcode']=hccref['9']['subcode'].apply(lambda x: str(x).replace(' ',''))\n",
    "hccref['10']['subcode']=hccref['10']['subcode'].apply(lambda x: str(x).replace(' ',''))\n",
    "ccsref['9']['subcode']=ccsref['9']['subcode'].apply(lambda x:str(x.replace(\" \",'')))\n",
    "ccsref['10']['subcode']=ccsref['10']['subcode'].apply(lambda x:str(x.replace(\" \",'')))\n"
   ]
  },
  {
   "cell_type": "markdown",
   "metadata": {},
   "source": [
    "Get rid of the decimals in the HCC/CCS codes"
   ]
  },
  {
   "cell_type": "code",
   "execution_count": null,
   "metadata": {},
   "outputs": [],
   "source": [
    "###################LATE EDIT#######\n",
    "ccsref['9']['ccslev']=ccsref['9']['ccslev'].apply(lambda x: str(x).partition(\".\")[0])\n",
    "ccsref['10']['ccslev']=ccsref['10']['ccslev'].apply(lambda x:str(x).partition(\".\")[0])\n"
   ]
  },
  {
   "cell_type": "code",
   "execution_count": null,
   "metadata": {},
   "outputs": [],
   "source": [
    "hccref['9']['hcclev']=hccref['9']['hcclev'].apply(lambda x: str(x).partition(\".\")[0])\n",
    "hccref['10']['hcclev']=hccref['10']['hcclev'].apply(lambda x: str(x).partition(\".\")[0])"
   ]
  },
  {
   "cell_type": "code",
   "execution_count": null,
   "metadata": {},
   "outputs": [],
   "source": [
    "ccsref['9'].loc[ccsref['9']['ccslev']=='nan','ccslev']=None\n",
    "ccsref['10'].loc[ccsref['10']['ccslev']=='nan','ccslev']=None\n",
    "hccref['9'].loc[hccref['9']['hcclev']=='nan','hcclev']=None\n",
    "hccref['10'].loc[hccref['10']['hcclev']=='nan','hcclev']=None"
   ]
  },
  {
   "cell_type": "code",
   "execution_count": null,
   "metadata": {},
   "outputs": [],
   "source": [
    "hcc_9=hccref['9'].rename(columns={'hcclev':'hcclev9'}, inplace=False)\n",
    "ccs_9=ccsref['9'].rename(columns={'ccslev':'ccslev9'}, inplace=False)\n",
    "hcc_10=hccref['10'].rename(columns={'hcclev':'hcclev10'}, inplace=False)\n",
    "ccs_10=ccsref['10'].rename(columns={'ccslev':'ccslev10'}, inplace=False)"
   ]
  },
  {
   "cell_type": "markdown",
   "metadata": {},
   "source": [
    "### Load Institution's Protected Health Info tables from SQL into pandas dataframes "
   ]
  },
  {
   "cell_type": "code",
   "execution_count": null,
   "metadata": {},
   "outputs": [],
   "source": [
    "# For reference, to see the most recent recorded SQL code used to build SQL tables, use following [hashed] command\n",
    "#cwsql_codeviewer()"
   ]
  },
  {
   "cell_type": "markdown",
   "metadata": {},
   "source": [
    "Claims data (PHI) - load and preprocess to conform with reference table formatting"
   ]
  },
  {
   "cell_type": "code",
   "execution_count": null,
   "metadata": {},
   "outputs": [],
   "source": [
    "db=DB()\n",
    "icd=pd.read_sql(\"SELECT * FROM J_cw_icd WHERE EVT_DATE>='\"+claimsStart+\"' AND EVT_DATE<'\"+demoEndDate+\"';\",db)"
   ]
  },
  {
   "cell_type": "code",
   "execution_count": null,
   "metadata": {},
   "outputs": [],
   "source": [
    "icd['ICD10_subcode']=icd['CODE'].str.replace('.','')\n",
    "print('okay, done.')"
   ]
  },
  {
   "cell_type": "code",
   "execution_count": null,
   "metadata": {},
   "outputs": [],
   "source": [
    "icd['ICD9_subcode']=icd['ICD9_CODE'].str.replace('.','')\n",
    "print('okay, done.')"
   ]
  },
  {
   "cell_type": "code",
   "execution_count": null,
   "metadata": {},
   "outputs": [],
   "source": [
    "icd=icd.merge(hccref['10'][['subcode','hcclev']],left_on='ICD10_subcode',right_on='subcode',how='left')\n",
    "print('okay done again')"
   ]
  },
  {
   "cell_type": "code",
   "execution_count": null,
   "metadata": {},
   "outputs": [],
   "source": [
    "icd=icd.merge(ccsref['10'][['subcode','ccslev']],left_on='ICD10_subcode',right_on='subcode',how='left')\n",
    "icd['AgeAtTest']=icd['AGEATCLAIM']/365.25\n",
    "#prDF(icd)\n",
    "len(icd) \n",
    "print('done.')"
   ]
  },
  {
   "cell_type": "markdown",
   "metadata": {},
   "source": [
    "Service data (PHI) - load and preprocess to conform with reference table formatting"
   ]
  },
  {
   "cell_type": "code",
   "execution_count": null,
   "metadata": {},
   "outputs": [],
   "source": [
    "db=DB()\n",
    "cpt=pd.read_sql(\"SELECT * FROM J_cw_cpt WHERE EVT_DATE>='\"+reportStart+\"' AND EVT_DATE<'\"+demoEndDate+\"';\",db)"
   ]
  },
  {
   "cell_type": "code",
   "execution_count": null,
   "metadata": {},
   "outputs": [],
   "source": [
    "cpt['AgeAtTest']=cpt['AGEATCLAIM']/365.25\n",
    "#drop the CPT's without ENC_ID\n",
    "cpt=cpt[cpt['ENC_ID']!='']\n",
    "#prDF(cpt)\n",
    "len(cpt) # this line is for code-quality control. Checking to see if the data is matching up.\n",
    "print('done.')"
   ]
  },
  {
   "cell_type": "markdown",
   "metadata": {},
   "source": [
    "Individual patient demographics (PHI) - load and preprocess to conform with reference table formatting"
   ]
  },
  {
   "cell_type": "code",
   "execution_count": null,
   "metadata": {
    "scrolled": true
   },
   "outputs": [],
   "source": [
    "db=DB()\n",
    "demo=pd.read_sql(\"SELECT * FROM V_PATIENT_MASTER WHERE MRN IN (SELECT DISTINCT(MRN) FROM V_ENC_MP WHERE ADM_DT BETWEEN '2000-01-01' AND '\"+demoEndDate+\"');\",db)\n",
    "demo['DOB']=pd.to_datetime(demo['DOB'],infer_datetime_format=True,errors='ignore')\n",
    "demo['current_age']=demo['DOB'].apply(calculate_age)\n",
    "#prDF(demo)\n",
    "len(demo)\n",
    "print('done.')"
   ]
  },
  {
   "cell_type": "markdown",
   "metadata": {},
   "source": [
    "Dexa scan data (PHI) - load and preprocess to conform with reference table formatting"
   ]
  },
  {
   "cell_type": "code",
   "execution_count": null,
   "metadata": {},
   "outputs": [],
   "source": [
    "db=DB()\n",
    "dexa_pd=pd.read_sql(\"select MRN, ENC_ID, EVT_DATE, CODE from J_CW_DEXA WHERE EVT_DATE>='\"+reportStart+\"' AND EVT_DATE<'\"+demoEndDate+\"';\",db)\n",
    "dexa_pd=add_age(dexa_pd,demo)\n",
    "len(dexa_pd)\n",
    "print('done.')"
   ]
  },
  {
   "cell_type": "markdown",
   "metadata": {},
   "source": [
    "Drug Rx data (PHI) - load and preprocess to conform with reference table formatting"
   ]
  },
  {
   "cell_type": "code",
   "execution_count": null,
   "metadata": {},
   "outputs": [],
   "source": [
    "db=DB()\n",
    "drug=pd.read_sql(\"SELECT * FROM J_CW_RX WHERE ENTRY_DATE>='\"+reportStart+\"' AND ENTRY_DATE<'\"+demoEndDate+\"'\",db)\n",
    "drug['AgeAtTest']=drug['AGEATCLAIM']/365.25\n",
    "len(drug)\n",
    "print('done.')"
   ]
  },
  {
   "cell_type": "markdown",
   "metadata": {},
   "source": [
    "Admissions data (PHI) - load and preprocess to conform with reference table formatting"
   ]
  },
  {
   "cell_type": "code",
   "execution_count": null,
   "metadata": {},
   "outputs": [],
   "source": [
    "#  Get admissions data\n",
    "db=DB()\n",
    "adms_pd=pd.read_sql(\"SELECT MRN as ADM_MRN, ENC_ID as ADM_ENC_ID, ADM_DT, DIS_DT from J_CW_ADMS where ADM_DT >= '\"+reportStart+\"' AND ADM_DT<='\"+admsEndDate+\"';\",db)\n",
    "#prDF(adms_pd)\n",
    "#len(adms_pd)\n",
    "print('done.')"
   ]
  },
  {
   "cell_type": "markdown",
   "metadata": {},
   "source": [
    "Further preprocess PHI data"
   ]
  },
  {
   "cell_type": "code",
   "execution_count": null,
   "metadata": {},
   "outputs": [],
   "source": [
    "#Force lowercase\n",
    "drug.MED_NAME=drug.MED_NAME.apply(lambda x:str(x).lower())\n",
    "nhamcsref['Drug Names']=nhamcsref['Drug Names'].apply(lambda x:str(x).lower())\n",
    "drug['FIRST_NAME']=drug.MED_NAME.apply(lambda x:str(x).split(' ',1)[0])\n",
    "drug=drug.merge(nhamcsref,left_on='FIRST_NAME',right_on='Drug Names',how='left')\n",
    "# standardize drug's column names to match those important ones of the cpt table\n",
    "drug.rename(columns={'ENTRY_DATE':'EVT_DATE','Drug Codes':'CODE'},inplace=True)\n",
    "#################################################\n",
    "drug.loc[drug.MED_NAME=='oxycodone-acetaminophen','CODE']= 'd03431'\n",
    "drug.loc[drug.MED_NAME=='hydrocodone-acetaminophen','CODE']= 'd03428'\n",
    "#################################################\n",
    "drug=drug[drug.CODE.notnull()]"
   ]
  },
  {
   "cell_type": "markdown",
   "metadata": {},
   "source": [
    "### Trying to reduce size of PHI data for leaner memory use"
   ]
  },
  {
   "cell_type": "code",
   "execution_count": null,
   "metadata": {},
   "outputs": [],
   "source": [
    "icd.loc[:,'AgeAtTest']=icd.AgeAtTest.apply(lambda x: round(x,1))\n",
    "cpt.loc[:,'AgeAtTest']=cpt.AgeAtTest.apply(lambda x: round(x,1))\n",
    "drug.loc[:,'AgeAtTest']=drug.AgeAtTest.apply(lambda x: round(x,1))\n",
    "dexa_pd.loc[:,'AgeAtTest']=dexa_pd.AgeAtTest.apply(lambda x: round(x,1))"
   ]
  },
  {
   "cell_type": "code",
   "execution_count": null,
   "metadata": {},
   "outputs": [],
   "source": [
    "icd.drop('AGEATCLAIM', axis=1, inplace=True)\n",
    "cpt.drop('AGEATCLAIM', axis=1, inplace=True)\n",
    "drug.drop('AGEATCLAIM', axis=1, inplace=True)\n",
    "drug.drop('NZ_INSERT_DT', axis=1, inplace=True)\n",
    "drug.drop('DURATION', axis=1, inplace=True)\n",
    "adms_pd.drop('ADM_ENC_ID', axis=1, inplace=True)\n",
    "dexa_pd.drop('DOB', axis=1, inplace=True)"
   ]
  },
  {
   "cell_type": "markdown",
   "metadata": {},
   "source": [
    "### Load different general-equivalence mappings (GEMs)\n",
    "For cross reference between development names and manuscript names:\n",
    "+ CW_gems         =  Forward GEM (mapping ICD-9 diagnoses to ICD-10 diagnoses) <br>\n",
    "+ CW_reimburse    =  Reverse GEM (mapping ICD-10 diagnoses to ICD-9 diagnoses) <br>\n",
    "\n",
    "(\"bestmapx\" were initially thought to be distinct maps but further inspection revealed they are the CW_reimburse map with ~10 links different)"
   ]
  },
  {
   "cell_type": "code",
   "execution_count": null,
   "metadata": {},
   "outputs": [],
   "source": [
    "# import the GEMs\n",
    "gems=pd.read_pickle('./pickle/gems.p')\n",
    "\n",
    "#print('Preview of gems:\\n')\n",
    "#prDF(gems)\n",
    "\n",
    "#Load the 'bestMap' (local specific name for the GEM) equ-map\n",
    "#bestMap=pd.read_pickle('./pickle/bestMap.p')\n",
    "#print('Preview of bestMap_pickle:\\n')\n",
    "#prDF(bestMap)\n",
    "\n",
    "#Load the reimburse equ-map\n",
    "#reimburse=pd.read_pickle('./pickle/reimburse.p')\n",
    "#print('Preview of reimburse_pickle')\n",
    "#prDF(reimburse)\n"
   ]
  },
  {
   "cell_type": "code",
   "execution_count": null,
   "metadata": {},
   "outputs": [],
   "source": [
    "# Preprocess to ICDX_CM_only GEMs (Remove procedural codes, Remove expired maps, Return processed maps)\n",
    "# simplify_xgems(reference mapping, rootICD that will be set, 'd'iagnosis/'p'rocedural code)\n",
    "\"\"\"\n",
    "CW_gems={}\n",
    "CW_bestMap9={}\n",
    "CW_bestMap10={}\n",
    "CW_reimburse={}\n",
    "\n",
    "# Base case\n",
    "CW_gems['gems_s'] = simplify_xgem(gems, 9, 'd')\n",
    "CW_bestMap9['bestMap9_s']  = simplify_xgem(bestMap, 9, 'd')\n",
    "CW_bestMap10['bestMap10_s'] = simplify_xgem(bestMap, 10, 'd')\n",
    "CW_reimburse['reimburse_s'] = simplify_xgem(reimburse, 10, 'd')\n",
    "\n",
    "\"\"\""
   ]
  },
  {
   "cell_type": "markdown",
   "metadata": {},
   "source": [
    "(Irrelevant -- no ICD procedural codes were in actual PHI) Create a gems map for ICD9 to 10 procedure codes:"
   ]
  },
  {
   "cell_type": "code",
   "execution_count": null,
   "metadata": {},
   "outputs": [],
   "source": [
    "CW_gems_p={}\n",
    "CW_gems_p['gems_ps']=simplify_xgem(gems, 9, 'p')"
   ]
  },
  {
   "cell_type": "markdown",
   "metadata": {},
   "source": [
    "###Inspect parsed Maps"
   ]
  },
  {
   "cell_type": "code",
   "execution_count": null,
   "metadata": {},
   "outputs": [],
   "source": [
    "# Print current keys of GEM dictionaries:\n",
    "#for x in [CW_gems, CW_bestMap9, CW_bestMap10, CW_reimburse]:\n",
    "#    print(x.keys())\n",
    "    #print(x.values())"
   ]
  },
  {
   "cell_type": "markdown",
   "metadata": {},
   "source": [
    "### Pool the GEMs into single variable"
   ]
  },
  {
   "cell_type": "code",
   "execution_count": null,
   "metadata": {},
   "outputs": [],
   "source": [
    "## This chunk is hashed out becaused the pooled dicts were later stored preprocessed and imported by following chunk\n",
    "\n",
    "#pooleddict={}\n",
    "#for x in [CW_gems, CW_bestMap9, CW_bestMap10, CW_reimburse]:\n",
    "#    pooleddict.update(x)\n",
    "# pooleddict_frompicklejar = pooleddict\n"
   ]
  },
  {
   "cell_type": "code",
   "execution_count": null,
   "metadata": {},
   "outputs": [],
   "source": [
    "pooleddict_frompicklejar = pd.read_pickle('./pickle/pickled_dicts2016_11_15.p')\n",
    "pooleddict_frompicklejar.keys()"
   ]
  },
  {
   "cell_type": "markdown",
   "metadata": {},
   "source": [
    "Merge HCC_9 and CCS_9 into GEMs"
   ]
  },
  {
   "cell_type": "code",
   "execution_count": null,
   "metadata": {},
   "outputs": [],
   "source": [
    "pooleddict_frompicklejar['bestMap10_s']=pooleddict_frompicklejar['bestMap10_s'].merge(hcc_9[['subcode','hcclev9']], left_on='ICD9_subcode', right_on='subcode', how='left')\n",
    "pooleddict_frompicklejar['bestMap10_s']=pooleddict_frompicklejar['bestMap10_s'].merge(ccs_9[['subcode','ccslev9']], left_on='ICD9_subcode', right_on='subcode', how='left')\n",
    "\n",
    "pooleddict_frompicklejar['bestMap9_s']=pooleddict_frompicklejar['bestMap9_s'].merge(hcc_9[['subcode','hcclev9']], left_on='ICD9_subcode', right_on='subcode', how='left')\n",
    "pooleddict_frompicklejar['bestMap9_s']=pooleddict_frompicklejar['bestMap9_s'].merge(ccs_9[['subcode','ccslev9']], left_on='ICD9_subcode', right_on='subcode', how='left')\n",
    "\n",
    "pooleddict_frompicklejar['gems_s']=pooleddict_frompicklejar['gems_s'].merge(hcc_9[['subcode','hcclev9']], left_on='ICD9_subcode', right_on='subcode', how='left')\n",
    "pooleddict_frompicklejar['gems_s']=pooleddict_frompicklejar['gems_s'].merge(ccs_9[['subcode','ccslev9']], left_on='ICD9_subcode', right_on='subcode', how='left')\n",
    "\n",
    "pooleddict_frompicklejar['reimburse_s']=pooleddict_frompicklejar['reimburse_s'].merge(hcc_9[['subcode','hcclev9']], left_on='ICD9_subcode', right_on='subcode', how='left')\n",
    "pooleddict_frompicklejar['reimburse_s']=pooleddict_frompicklejar['reimburse_s'].merge(ccs_9[['subcode','ccslev9']], left_on='ICD9_subcode', right_on='subcode', how='left')"
   ]
  },
  {
   "cell_type": "markdown",
   "metadata": {},
   "source": [
    "Merge HCC_10 and CCS_10 into GEMs by Left Joins"
   ]
  },
  {
   "cell_type": "code",
   "execution_count": null,
   "metadata": {},
   "outputs": [],
   "source": [
    "pooleddict_frompicklejar['bestMap10_s']=pooleddict_frompicklejar['bestMap10_s'].merge(hcc_10[['subcode','hcclev10']], left_on='ICD10_subcode', right_on='subcode', how='left')\n",
    "pooleddict_frompicklejar['bestMap10_s']=pooleddict_frompicklejar['bestMap10_s'].merge(ccs_10[['subcode','ccslev10']], left_on='ICD10_subcode', right_on='subcode', how='left')\n",
    "\n",
    "pooleddict_frompicklejar['bestMap9_s']=pooleddict_frompicklejar['bestMap9_s'].merge(hcc_10[['subcode','hcclev10']], left_on='ICD10_subcode', right_on='subcode', how='left')\n",
    "pooleddict_frompicklejar['bestMap9_s']=pooleddict_frompicklejar['bestMap9_s'].merge(ccs_10[['subcode','ccslev10']], left_on='ICD10_subcode', right_on='subcode', how='left')\n",
    "\n",
    "pooleddict_frompicklejar['gems_s']=pooleddict_frompicklejar['gems_s'].merge(hcc_10[['subcode','hcclev10']], left_on='ICD10_subcode', right_on='subcode', how='left')\n",
    "pooleddict_frompicklejar['gems_s']=pooleddict_frompicklejar['gems_s'].merge(ccs_10[['subcode','ccslev10']], left_on='ICD10_subcode', right_on='subcode', how='left')\n",
    "\n",
    "pooleddict_frompicklejar['reimburse_s']=pooleddict_frompicklejar['reimburse_s'].merge(hcc_10[['subcode','hcclev10']], left_on='ICD10_subcode', right_on='subcode', how='left')\n",
    "pooleddict_frompicklejar['reimburse_s']=pooleddict_frompicklejar['reimburse_s'].merge(ccs_10[['subcode','ccslev10']], left_on='ICD10_subcode', right_on='subcode', how='left')"
   ]
  },
  {
   "cell_type": "markdown",
   "metadata": {},
   "source": [
    "For neatness, drop unnecessary columns from GEMs"
   ]
  },
  {
   "cell_type": "code",
   "execution_count": null,
   "metadata": {},
   "outputs": [],
   "source": [
    "for x,y in pooleddict_frompicklejar.items():\n",
    "    y.drop(['subcode_x' , 'subcode_y'], axis=1, inplace=True)\n",
    "    try:\n",
    "        y.drop([u'ICD10_EFFECTIVE_DATE', u'ICD10_EXPIRATION_DATE',\n",
    "                u'ICD9_EFFECTIVE_DATE', u'ICD9_EXPIRATION_DATE',\n",
    "              u'MAPPING_EFFECTIVE_DATE' ,u'MAPPING_EXPIRATION_DATE'], axis=1, inplace=True)\n",
    "    \n",
    "    except:\n",
    "        y.drop(['ICD9_EFFECTIVE_TIMESTAMP', 'ICD9_EXPIRATION_TIMESTAMP',\n",
    "                'ICD10_EFFECTIVE_TIMESTAMP', 'ICD10_EXPIRATION_TIMESTAMP',\n",
    "                'MAPPING_EFFECTIVE_TIMESTAMP', 'MAPPING_EXPIRATION_TIMESTAMP', 'NZ_INSERT_DT'],\n",
    "               axis=1, inplace=True)\n",
    "    print(y.columns.values)"
   ]
  },
  {
   "cell_type": "code",
   "execution_count": null,
   "metadata": {},
   "outputs": [],
   "source": [
    "for x,y in pooleddict_frompicklejar.items():\n",
    "    y['ICD10_subcode']=y['ICD10_subcode'].apply(lambda x: str(x).replace('x','X'))\n",
    "print('truthfully, this should be irrelevant, as Vanderbilt is not using any ICD10 codes that contain an X')"
   ]
  },
  {
   "cell_type": "markdown",
   "metadata": {},
   "source": [
    "### Some data checks:"
   ]
  },
  {
   "cell_type": "code",
   "execution_count": null,
   "metadata": {},
   "outputs": [],
   "source": [
    "# Proofing preprocessing before going forward\n",
    "verification1 = pooleddict_frompicklejar['gems_s'][['ICD10_CODE','ICD10_subcode','ICD9_CODE']]\n",
    "verification1['first']=verification1.ICD10_subcode.str[0]\n",
    "verification1['end']= verification1.ICD10_subcode.str[1:]\n",
    "verification1=verification1[verification1['end'].str.contains('X')]\n",
    "verification1['trunc']= verification1['ICD10_subcode'].apply(lambda x:str(x)[1:].split('X')[0])\n",
    "verification1['trunc']=verification1['first']+verification1['trunc']\n",
    "verification1['length']=verification1['trunc'].apply(lambda x: len(str(x)))\n",
    "lx= verification1.groupby('length').count()\n",
    "lx.reset_index(inplace=True)\n",
    "lxmn=min(lx.length)\n",
    "lxmx=max(lx.length)\n",
    "print('{}-{}'.format(lxmn,lxmx))\n",
    "tester = icd[['MRN','CODE','EVT_DATE']]\n",
    "for x in range(lxmn, lxmx+1):\n",
    "    tester[str(x)]=tester['CODE'].str[0:x]\n",
    "\n",
    "for x in range(lxmn, lxmx+1):\n",
    "    if len(tester[tester[str(x)].isin(verification1.trunc)])>0:\n",
    "        raise ValueError('algorithm not tested for ICD10 codes that contain wildcard-Xs')\n",
    "    else:\n",
    "        print('pass')\n",
    "del verification1\n",
    "del tester"
   ]
  },
  {
   "cell_type": "code",
   "execution_count": null,
   "metadata": {},
   "outputs": [],
   "source": [
    "### Quality Assurance: Are there any ICD Procedure Code in claims data?\n",
    "if len(icd[icd['CODE'].apply(lambda x: re.search('^\\w{7}', x) !=None, re.I)]) >0:\n",
    "    raise ValueError('ICD10 claims data include ICD10 Procedure Codes - which are not supported by current script')\n",
    "if len(icd[icd['ICD9_CODE'].apply(lambda x: re.search('^\\w{2}[.]', x) !=None, re.I)]) >0:\n",
    "    raise ValueError('ICD9 claims data include ICD9 Procedure Codes - which are not supported by current script')"
   ]
  },
  {
   "cell_type": "markdown",
   "metadata": {},
   "source": [
    "# Load the classes for each metric"
   ]
  },
  {
   "cell_type": "markdown",
   "metadata": {},
   "source": [
    "### Instantiate a class for each of the 11 metrics"
   ]
  },
  {
   "cell_type": "code",
   "execution_count": null,
   "metadata": {},
   "outputs": [],
   "source": [
    "#Set the defaults\n",
    "MetricClass.load_dataframes(c_servdata=cpt, c_claimdata=icd, \n",
    "                            c_demodata=demo, c_demoref=democriteria,\n",
    "                            c_indicref=indications, c_redflagref=redflags,\n",
    "                            c_servref=services, c_dexadata=None,\n",
    "                            c_preopreftab=None, c_admsdata=None,\n",
    "                            c_newindicref=indic_10, c_newredflagref=red_10,\n",
    "                            c_newservref=serv_10, c_window_date= demoStartDate)\n",
    "MetricClass.load_gemdictionaries(pooleddict_frompicklejar, CW_gems_p)"
   ]
  },
  {
   "cell_type": "code",
   "execution_count": null,
   "metadata": {},
   "outputs": [],
   "source": [
    "# Add the standard alternate arguments:\n",
    "MetricClass.appendservdata_dict('drug',drug)\n",
    "MetricClass.appenddexadata_dict('dexadata',dexa_pd)\n",
    "MetricClass.appendadmsdata_dict('admsdata',adms_pd)\n",
    "MetricClass.appendpreopreftab_dict('preopref',preopref)"
   ]
  },
  {
   "cell_type": "code",
   "execution_count": null,
   "metadata": {},
   "outputs": [],
   "source": [
    "# Metric Classes:\n",
    "# [arguments]             \n",
    "CW_cerv     = MetricClass('cerv', lookback=365) #ideally, 3650 days\n",
    "CW_card     = MetricClass('card')\n",
    "CW_vitd     = MetricClass('vitd')\n",
    "CW_bph      = MetricClass('bph',  tempsort_day=60)\n",
    "CW_lbp      = MetricClass('lbp',  tempsort_day=42)\n",
    "CW_feed     = MetricClass('feed', tempsort_day = False)\n",
    "CW_psyc     = MetricClass('psyc', servdata= 'drug', second_datax='SERVDATA') \n",
    "CW_dexa     = MetricClass('dexa', dexadata='dexadata', tempsort_day=730, lookback=365) #ideally, these are both 730 days, but at time, only 365 days of diagnosis data available in ICD-10 era\n",
    "CW_narc     = MetricClass('narc', servdata='drug', admsdata='admsdata', preopreftab='preopref', tempsort_day=60, second_datax='SERVDATA') #ideally, tempsort_day=60\n",
    "CW_nonpreop = MetricClass('nonpreop', admsdata='admsdata', preopreftab='preopref', tempsort_day=30)\n",
    "CW_catpreop = MetricClass('catpreop', admsdata='admsdata', preopreftab='preopref', tempsort_day=30)\n"
   ]
  },
  {
   "cell_type": "markdown",
   "metadata": {},
   "source": [
    "### Preparing a report on 11 metrics in single script"
   ]
  },
  {
   "cell_type": "code",
   "execution_count": null,
   "metadata": {},
   "outputs": [],
   "source": [
    "# Metrics\n",
    "elevenmetrics= [('CW_feed',CW_feed),('CW_narc',CW_narc),('CW_card',CW_card),\n",
    "                ('CW_psyc',CW_psyc), ('CW_nonpreop',CW_nonpreop),\n",
    "                ('CW_catpreop',CW_catpreop),\n",
    "                ('CW_lbp',CW_lbp),('CW_dexa',CW_dexa),\n",
    "                ('CW_cerv',CW_cerv),('CW_vitd',CW_vitd),\n",
    "                ('CW_bph',CW_bph)]\n",
    "\n",
    "\n",
    "# fewmetrics = [('CW_card',CW_card)] -- used for debugging\n"
   ]
  },
  {
   "cell_type": "code",
   "execution_count": null,
   "metadata": {},
   "outputs": [],
   "source": [
    "os.chdir('./exported')"
   ]
  },
  {
   "cell_type": "code",
   "execution_count": null,
   "metadata": {},
   "outputs": [],
   "source": [
    "\"\"\" # For examining single metric, used for debugging\n",
    "from cw_package import chooseallwisely\n",
    "testdict=pooleddict_frompicklejar['gems_s']\n",
    "\n",
    "j=chooseallwisely('narc',                         #0\n",
    "                    servdata=drug,                       #1\n",
    "                    claimdata=icd,                      #2\n",
    "                    demodata=demo,                      #3\n",
    "                    demoref=democriteria,               #4\n",
    "                    indicref=indications,               #5\n",
    "                    redflagref=redflags,                #6\n",
    "                    servref=services,                   #7\n",
    "                    dexadata=None,                      #8\n",
    "                    preopreftab=preopref,                   #9\n",
    "                    admsdata=adms_pd,                     #10\n",
    "                    tempsort_day=60,                 #11\n",
    "                    lookback=365,                      #12\n",
    "                    rootICD_gx=9,                     #13\n",
    "                    sourcegemdict=testdict,            #14\n",
    "                    procgem_dict=None,              #15\n",
    "                    uniqueflagx=False,               #16\n",
    "                    second_data=cpt,                 #17\n",
    "                    window_date = '2016-04-01'              #18\n",
    "                    )\n",
    "\"\"\""
   ]
  },
  {
   "cell_type": "markdown",
   "metadata": {},
   "source": [
    "#### Run the mapping of reference codes from ICD-9 to ICD-10, and calculate all 11 metrics on patient data in ICD-10"
   ]
  },
  {
   "cell_type": "code",
   "execution_count": null,
   "metadata": {},
   "outputs": [],
   "source": [
    "f_refto10_gems_dict={}\n",
    "for x in elevenmetrics:\n",
    "    try:\n",
    "        y=x[1].run_refto10_gems()\n",
    "        y['denominator']= y['denominator'][y['denominator'].TEST_DATE_a>=demoStartDate]\n",
    "        y['denominator']= y['denominator'][y['denominator'].TEST_DATE_a<demoEndDate]\n",
    "        y['numerator']= y['numerator'][y['numerator'].TEST_DATE_a>=demoStartDate]\n",
    "        y['numerator']= y['numerator'][y['numerator'].TEST_DATE_a<demoEndDate]\n",
    "        f_refto10_gems_dict[x[0]]={'denominator_l':len(y['denominator']),'denominator':y['denominator'],\n",
    "                        'numerator_l':len(y['numerator']),'numerator':y['numerator']}\n",
    "    except:\n",
    "        y={}\n",
    "        y['denominator']='not calculated'\n",
    "        y['numerator']  ='not calculated'\n",
    "        f_refto10_gems_dict[x[0]]={'denominator_l':'na','denominator':y['denominator'],\n",
    "                        'numerator_l':'na','numerator':y['numerator']}\n",
    "# refto10_gems"
   ]
  },
  {
   "cell_type": "markdown",
   "metadata": {},
   "source": [
    "#### Run the mapping of patient data from ICD-10 to ICD-9, and calculate all 11 metrics in ICD-9 against reference ICD-9 definitions"
   ]
  },
  {
   "cell_type": "code",
   "execution_count": null,
   "metadata": {
    "scrolled": false
   },
   "outputs": [],
   "source": [
    "#for k,v in final_dict.iteritems():\n",
    "#    print(final_dict[k]['metric_name'])\n",
    "\n",
    "f_claimto9_reimb_dict={}\n",
    "for x in elevenmetrics:\n",
    "    try:\n",
    "        y=x[1].run_claimto9_reimb()\n",
    "        y['denominator']= y['denominator'][y['denominator'].TEST_DATE_a>=demoStartDate]\n",
    "        y['denominator']= y['denominator'][y['denominator'].TEST_DATE_a<demoEndDate]\n",
    "        y['numerator']= y['numerator'][y['numerator'].TEST_DATE_a>=demoStartDate]\n",
    "        y['numerator']= y['numerator'][y['numerator'].TEST_DATE_a<demoEndDate]\n",
    "        f_claimto9_reimb_dict[x[0]]={'denominator_l':len(y['denominator']),'denominator':y['denominator'],\n",
    "                        'numerator_l':len(y['numerator']),'numerator':y['numerator']}\n",
    "    except:\n",
    "        y={}\n",
    "        y['denominator']='not calculated'\n",
    "        y['numerator']  ='not calculated'\n",
    "        f_claimto9_reimb_dict[x[0]]={'denominator_l':'na','denominator':y['denominator'],\n",
    "                        'numerator_l':'na','numerator':y['numerator']}\n",
    "\n",
    "\n",
    "\n",
    "# claimto9_reimb"
   ]
  },
  {
   "cell_type": "markdown",
   "metadata": {},
   "source": [
    "#### Calculate the 11 metrics by using the Novel ICD-10 based reference codes against the patient data in ICD-10. \n",
    "No actual mapping across ICD generations is done for this metric."
   ]
  },
  {
   "cell_type": "code",
   "execution_count": null,
   "metadata": {},
   "outputs": [],
   "source": [
    "f_10to10_dict={}\n",
    "for x in elevenmetrics:\n",
    "    y=x[1].run_10to10()\n",
    "    y['denominator']= y['denominator'][y['denominator'].TEST_DATE_a>=demoStartDate]\n",
    "    y['denominator']= y['denominator'][y['denominator'].TEST_DATE_a<demoEndDate]\n",
    "    y['numerator']= y['numerator'][y['numerator'].TEST_DATE_a>=demoStartDate]\n",
    "    y['numerator']= y['numerator'][y['numerator'].TEST_DATE_a<demoEndDate]\n",
    "    f_10to10_dict[x[0]]={'denominator_l':len(y['denominator']),'denominator':y['denominator'],\n",
    "                    'numerator_l':len(y['numerator']),'numerator':y['numerator']}"
   ]
  },
  {
   "cell_type": "code",
   "execution_count": null,
   "metadata": {},
   "outputs": [],
   "source": [
    "### this invokes an additional GEM that on inspection was the same as the reimbursement GEM implemented above (see comment above where GEMs were loaded)\n",
    "f_refto10_bestMap9_dict={}\n",
    "for x in elevenmetrics:\n",
    "    try:    \n",
    "        y=x[1].run_refto10_bestMap9()\n",
    "        y['denominator']= y['denominator'][y['denominator'].TEST_DATE_a>=demoStartDate]\n",
    "        y['denominator']= y['denominator'][y['denominator'].TEST_DATE_a<demoEndDate]\n",
    "        y['numerator']= y['numerator'][y['numerator'].TEST_DATE_a>=demoStartDate]\n",
    "        y['numerator']= y['numerator'][y['numerator'].TEST_DATE_a<demoEndDate]\n",
    "        f_refto10_bestMap9_dict[x[0]]={'denominator_l':len(y['denominator']),'denominator':y['denominator'],\n",
    "                        'numerator_l':len(y['numerator']),'numerator':y['numerator']}\n",
    "    except:\n",
    "        y={}\n",
    "        y['denominator']='not calculated'\n",
    "        y['numerator']  ='not calculated'\n",
    "        f_refto10_bestMap9_dict[x[0]]={'denominator_l':'na','denominator':y['denominator'],\n",
    "                        'numerator_l':'na','numerator':y['numerator']}\n",
    "# refto10_bestMap"
   ]
  },
  {
   "cell_type": "code",
   "execution_count": null,
   "metadata": {},
   "outputs": [],
   "source": [
    "### This invokes an additional GEM that on inspection was the same as the reimbursement GEM above (see comment above where GEMs were loaded)\n",
    "\n",
    "f_claimto9_bestMap10_dict={}\n",
    "for x in elevenmetrics:\n",
    "    try:\n",
    "        y=x[1].run_claimto9_bestMap10()\n",
    "        y['denominator']= y['denominator'][y['denominator'].TEST_DATE_a>=demoStartDate]\n",
    "        y['denominator']= y['denominator'][y['denominator'].TEST_DATE_a<demoEndDate]\n",
    "        y['numerator']= y['numerator'][y['numerator'].TEST_DATE_a>=demoStartDate]\n",
    "        y['numerator']= y['numerator'][y['numerator'].TEST_DATE_a<demoEndDate]\n",
    "        f_claimto9_bestMap10_dict[x[0]]={'denominator_l':len(y['denominator']),'denominator':y['denominator'],\n",
    "                        'numerator_l':len(y['numerator']),'numerator':y['numerator']}\n",
    "    except:\n",
    "        y={}\n",
    "        y['denominator']='not calculated'\n",
    "        y['numerator']  ='not calculated'\n",
    "        f_claimto9_bestMap10_dict[x[0]]={'denominator_l':'na','denominator':y['denominator'],\n",
    "                        'numerator_l':'na','numerator':y['numerator']}\n",
    "\n",
    "# claimto9_bestMap10"
   ]
  },
  {
   "cell_type": "markdown",
   "metadata": {},
   "source": [
    "Store output for later access"
   ]
  },
  {
   "cell_type": "code",
   "execution_count": null,
   "metadata": {},
   "outputs": [],
   "source": [
    "f= open(coded_date+'/pickled_f_10to10_'+coded_date+'.p','w')\n",
    "pickle.dump(f_10to10_dict, f)\n",
    "f.close()\n",
    "\n",
    "#del f_10to10_dict"
   ]
  },
  {
   "cell_type": "code",
   "execution_count": null,
   "metadata": {},
   "outputs": [],
   "source": [
    "f= open(coded_date+'/pickled_f_refto10_gems_'+coded_date+'.p','w')\n",
    "pickle.dump(f_refto10_gems_dict, f)\n",
    "f.close()\n",
    "\n",
    "#del f_refto10_gems_dict"
   ]
  },
  {
   "cell_type": "code",
   "execution_count": null,
   "metadata": {},
   "outputs": [],
   "source": [
    "f= open(coded_date+'/pickled_f_claimto9_reimb_'+coded_date+'.p','w')\n",
    "pickle.dump(f_claimto9_reimb_dict, f)\n",
    "f.close()\n",
    "\n",
    "#del f_claimto9_reimb_dict"
   ]
  },
  {
   "cell_type": "code",
   "execution_count": null,
   "metadata": {},
   "outputs": [],
   "source": [
    "f= open(coded_date+'/pickled_f_refto10_bestMap9_'+coded_date+'.p','w')\n",
    "pickle.dump(f_refto10_bestMap9_dict, f)\n",
    "f.close()\n",
    "\n",
    "#del f_refto10_bestMap9_dict"
   ]
  },
  {
   "cell_type": "code",
   "execution_count": null,
   "metadata": {},
   "outputs": [],
   "source": [
    "f= open(coded_date+'/pickled_f_claimto9_bestMap10_'+coded_date+'.p','w')\n",
    "pickle.dump(f_claimto9_bestMap10_dict, f)\n",
    "f.close()\n"
   ]
  },
  {
   "cell_type": "markdown",
   "metadata": {},
   "source": [
    "Everything below is for operational reporting. The preceding pickled files are used by subsequent Step_X notebooks for the GEM-study."
   ]
  },
  {
   "cell_type": "markdown",
   "metadata": {},
   "source": [
    "--- BREAK ----"
   ]
  },
  {
   "cell_type": "markdown",
   "metadata": {},
   "source": [
    "### Arrange operational reports for numerators and denominators across the 11 metrics, by GEM implementation"
   ]
  },
  {
   "cell_type": "code",
   "execution_count": null,
   "metadata": {},
   "outputs": [],
   "source": [
    "#claimto9_bestMap10_dict = pd.read_pickle('./pickle/pickled_f_claimto9_bestMap10_2016_08_29.p')\n",
    "#f_claimto9_reimb_dict= pd.read_pickle('./'+coded_date+'/pickled_f_claimto9_reimb_'+coded_date+'.p')\n",
    "#f_refto10_gems_dict= pd.read_pickle('./'+coded_date+'/pickled_f_refto10_gems_'+coded_date+'.p')\n",
    "#f_refto10_bestMap9_dict = pd.read_pickle('./'+coded_date+'/pickled_f_refto10_bestMap9_'+coded_date+'.p')\n",
    "#f_10to10_dict = pd.read_pickle('./'+coded_date+'/pickled_f_10to10_'+coded_date+'.p')\n",
    "\n",
    "ten_to_10 = ('10to10', f_10to10_dict)\n",
    "claimto9_reimb = ('claimto9_reimb', f_claimto9_reimb_dict)\n",
    "refto10_gems = ('refto10_gems',f_refto10_gems_dict)\n",
    "refto10_bestMap9 = ('refto10_bestMap9',f_refto10_bestMap9_dict)\n",
    "claimto9_bestMap10 = ('claimto9_bestMap10',f_claimto9_bestMap10_dict)\n",
    "\n",
    "collected = [ten_to_10, claimto9_reimb, refto10_gems, refto10_bestMap9, claimto9_bestMap10]"
   ]
  },
  {
   "cell_type": "code",
   "execution_count": null,
   "metadata": {},
   "outputs": [],
   "source": [
    "tallied_ratios= {}\n",
    "for x in collected:\n",
    "    tallied_ratios[x[0]]={y:(v['numerator_l'],v['denominator_l']) for y,v in x[1].iteritems()}\n",
    "\n",
    "tallied_ratios.keys()\n",
    "#import pprint"
   ]
  },
  {
   "cell_type": "code",
   "execution_count": null,
   "metadata": {},
   "outputs": [],
   "source": [
    "summreport = tallied_ratios\n",
    "f= open(coded_date+'/pickled_tallied_ratios_'+coded_date+'.p','w')\n",
    "pickle.dump(tallied_ratios, f)\n",
    "f.close()"
   ]
  },
  {
   "cell_type": "code",
   "execution_count": null,
   "metadata": {},
   "outputs": [],
   "source": [
    "# this was necessary when ICD procedural codes were possible -- but this was not an issue in final version\n",
    "for x in collected: \n",
    "    try:\n",
    "        if x[1]['CW_feed']['denominator_l']=='na':\n",
    "            del x[1]['CW_feed'] \n",
    "            print('deletion committed')\n",
    "    except:\n",
    "        print('nothing')\n",
    "        pass\n",
    "        "
   ]
  },
  {
   "cell_type": "code",
   "execution_count": null,
   "metadata": {},
   "outputs": [],
   "source": [
    "# Monthly report of low-value services, exported to CSV\n",
    "def output_monthly(cwreport, filename,suffix):\n",
    "    try:\n",
    "        z=pd.concat({k:pd.concat([y['numerator'].groupby('TEST_DATE_month')['MRN'].apply(lambda x:len(np.unique(x))),\n",
    "                   y['denominator'].groupby('TEST_DATE_month')['MRN'].apply(lambda x:len(np.unique(x)))],axis=1) for k,y in cwreport.iteritems()},axis=0)\n",
    "        z.columns=[\"Numerator\",\"Denominator\"]\n",
    "        z['Proportion']=z['Numerator'].div(z['Denominator'])\n",
    "        z=z.reset_index()\n",
    "        z.rename(columns={'level_0':'Long_Metric','Numerator':'Performance Not Met','Denominator':'All Performance'},inplace=True)\n",
    "        z=z[z.TEST_DATE_month.isin(reportOnMonths)].fillna(0)\n",
    "        z['Metric']=z.Long_Metric.replace(\"^.._\",\"\", regex=True)\n",
    "        z=z.merge(democriteria,left_on='Metric',right_on='key',how='left')\n",
    "        reportFilename=filename\n",
    "        z.fillna(0).to_csv(coded_date+'/'+reportFilename+suffix+'.csv')\n",
    "    except:\n",
    "        raise ValueError(\"Check to see that there are no \\'na\\' string values in x[1]\")\n"
   ]
  },
  {
   "cell_type": "code",
   "execution_count": null,
   "metadata": {
    "scrolled": true
   },
   "outputs": [],
   "source": [
    "from pprint import pprint\n",
    "pprint(summreport)"
   ]
  },
  {
   "cell_type": "code",
   "execution_count": null,
   "metadata": {},
   "outputs": [],
   "source": [
    "keylist = ['CW_cerv', 'CW_nonpreop', 'CW_bph', 'CW_card', 'CW_vitd',  'CW_lbp',  'CW_narc',  'CW_dexa', 'CW_catpreop',  'CW_psyc', 'CW_feed']"
   ]
  },
  {
   "cell_type": "code",
   "execution_count": null,
   "metadata": {},
   "outputs": [],
   "source": [
    "# get the individual patient id's for inspection\n",
    "def extract_MRNs(dictionary, keylistx):\n",
    "    MRNs_num = {}\n",
    "    MRNs_denom = {}\n",
    "    x = dictionary\n",
    "    for y in keylistx:\n",
    "        try:\n",
    "            x[y]['numerator']['metric']=y\n",
    "            x[y]['denominator']['metric']=y            \n",
    "            MRNs_num[y]=x[y]['numerator'][['MRN','TEST_DATE_month']]\n",
    "            MRNs_denom[y]=x[y]['denominator'][['MRN','TEST_DATE_month']]\n",
    "            print('success')\n",
    "        except:\n",
    "            try:\n",
    "                x[y]['denominator']['metric']=y            \n",
    "                MRNs_denom[y]=x[y]['denominator'][['MRN','TEST_DATE_month']]\n",
    "            except:\n",
    "                pass\n",
    "    return (MRNs_num, MRNs_denom)\n",
    "    "
   ]
  },
  {
   "cell_type": "code",
   "execution_count": null,
   "metadata": {},
   "outputs": [],
   "source": [
    "MRN_10to10 =           ('10to10', extract_MRNs(ten_to_10[1], keylist))\n",
    "MRNclaimto9_reimb =    ('claimto9_reimb',extract_MRNs(claimto9_reimb[1], keylist))\n",
    "MRNrefto10_gems=       ('refto10_gems',extract_MRNs(refto10_gems[1], keylist))\n",
    "MRNrefto10_bestMap9=   ('refto10_bestMap9',extract_MRNs(refto10_bestMap9[1], keylist))\n",
    "MRNclaimto9_bestMap10= ('claimto9_bestMap10',extract_MRNs(claimto9_bestMap10[1], keylist))\n",
    "\n",
    "collectedMRNs= [MRN_10to10, MRNclaimto9_reimb, MRNrefto10_gems, MRNrefto10_bestMap9, MRNclaimto9_bestMap10]"
   ]
  },
  {
   "cell_type": "code",
   "execution_count": null,
   "metadata": {},
   "outputs": [],
   "source": [
    "# export MRNs on monthly basis\n",
    "def output_monthlyMRNs(cwreport, filename,suffix, term):\n",
    "    alpha=0 if term=='numerator' else 1\n",
    "    try:\n",
    "        z=pd.concat({k:pd.concat([y],axis=1) for k,y in cwreport[alpha].iteritems()},axis=0)\n",
    "        #z.columns=[\"Numerator\",\"Denominator\"]\n",
    "        z=z.reset_index()\n",
    "        z.rename(columns={'level_0':'Long_Metric'},inplace=True)\n",
    "        z=z.drop(['level_1'],axis=1)\n",
    "        z=z[z.TEST_DATE_month.isin(reportOnMonths)].fillna(0)\n",
    "        z['Metric']=z.Long_Metric.replace(\"^.._\",\"\", regex=True)\n",
    "        z=z.merge(democriteria,left_on='Metric',right_on='key',how='left')\n",
    "        reportFilename=filename\n",
    "        z.fillna(0).to_csv(coded_date+'/'+reportFilename+term+suffix+'.csv')\n",
    "    except:\n",
    "        raise ValueError(\"Check to see that there are no \\'na\\' string values in x[1]\")"
   ]
  },
  {
   "cell_type": "code",
   "execution_count": null,
   "metadata": {},
   "outputs": [],
   "source": [
    "#j=collected[3][1]\n",
    "#for x,y in j.iteritems():\n",
    "#    print(y['denominator'].columns.values)"
   ]
  },
  {
   "cell_type": "code",
   "execution_count": null,
   "metadata": {},
   "outputs": [],
   "source": [
    "for x in collectedMRNs:\n",
    "    print('progress')\n",
    "    output_monthlyMRNs(x[1],x[0],coded_date, 'numerator')\n",
    "    output_monthlyMRNs(x[1],x[0],coded_date, 'denominator')\n",
    "    print('cycle complete')\n",
    "    "
   ]
  }
 ],
 "metadata": {
  "kernelspec": {
   "display_name": "Python 3",
   "language": "python",
   "name": "python3"
  },
  "language_info": {
   "codemirror_mode": {
    "name": "ipython",
    "version": 3
   },
   "file_extension": ".py",
   "mimetype": "text/x-python",
   "name": "python",
   "nbconvert_exporter": "python",
   "pygments_lexer": "ipython3",
   "version": "3.7.0"
  }
 },
 "nbformat": 4,
 "nbformat_minor": 1
}
