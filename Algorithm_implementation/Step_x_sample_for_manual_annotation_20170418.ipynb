{
 "cells": [
  {
   "cell_type": "markdown",
   "metadata": {},
   "source": [
    "### Sampling the outputs to send for annotations \n",
    "This is for research/development purposes. It extracts random sample from Step_A's output. The samples were sent to manual annotators. The manual annotations are used in Step_C onward. Step_B does not use this notebook's output."
   ]
  },
  {
   "cell_type": "code",
   "execution_count": null,
   "metadata": {},
   "outputs": [],
   "source": [
    "from cw_package.setup_cw_env import *\n",
    "from pylab import *\n",
    "from cw_package import prDF\n",
    "from au_package import assess_agreement, prep_Au_standard, standardize_flags\n",
    "import pickle\n",
    "#import re\n",
    "jacks_verification"
   ]
  },
  {
   "cell_type": "code",
   "execution_count": null,
   "metadata": {},
   "outputs": [],
   "source": [
    "coded_date = '2017_05_14'\n",
    "earliest_date= '2016_04_01'\n",
    "time_period= ['2016_4','2016_5','2016_6','2016_7','2016_8','2016_9']\n",
    "elevenkeys= ['CW_cerv','CW_card','CW_vitd','CW_bph','CW_lbp','CW_feed','CW_psyc','CW_dexa','CW_narc',\n",
    "             'CW_nonpreop','CW_catpreop']\n",
    "stdflag_string= 'as_annotated'\n",
    "\n",
    "GEMdicts = ['10to10', 'claimto9best', 'claimto9reimb', 'refto10best','refto10gems']"
   ]
  },
  {
   "cell_type": "markdown",
   "metadata": {},
   "source": [
    "### Import preprocessed data"
   ]
  },
  {
   "cell_type": "code",
   "execution_count": null,
   "metadata": {},
   "outputs": [],
   "source": [
    "# Load compiled numerators and denominators from different GEM implementations\n",
    "numerators_lt   = pd.read_pickle('./preprocessed/'+coded_date+'/pickled_compilednumerators_'+coded_date+'_long.p')\n",
    "denominators_lt = pd.read_pickle('./preprocessed/'+coded_date+'/pickled_compileddenominators_'+coded_date+'_long.p')"
   ]
  },
  {
   "cell_type": "code",
   "execution_count": null,
   "metadata": {},
   "outputs": [],
   "source": [
    "gem = 1\n",
    "met = 'CW_bph'\n",
    "print(numerators_lt[gem][0])\n",
    "a = numerators_lt[gem][1][numerators_lt[gem][1].Metric==met]\n",
    "b= denominators_lt[gem][1][denominators_lt[gem][1].Metric==met]"
   ]
  },
  {
   "cell_type": "code",
   "execution_count": null,
   "metadata": {},
   "outputs": [],
   "source": [
    "mrn = '<insert_mrn_here>'\n",
    "a[a.MRN==mrn]\n",
    "\n",
    "#print(b[b.MRN==mrn])"
   ]
  },
  {
   "cell_type": "markdown",
   "metadata": {},
   "source": [
    "Removing the numerators from the denominators in each GEM implementation to ensure no repeated sampling"
   ]
  },
  {
   "cell_type": "code",
   "execution_count": null,
   "metadata": {},
   "outputs": [],
   "source": [
    "sel_numerators_lt = [None]*len(numerators_lt)\n",
    "for x in range(len(numerators_lt)):\n",
    "    sel_numerators_lt[x]=(numerators_lt[x][0],\n",
    "                          numerators_lt[x][1][numerators_lt[x][1].TEST_DATE_month.isin(time_period)])"
   ]
  },
  {
   "cell_type": "code",
   "execution_count": null,
   "metadata": {},
   "outputs": [],
   "source": [
    "notnumerators_lt = [None]*len(numerators_lt)\n",
    "for x in range(len(numerators_lt)):\n",
    "    if denominators_lt[x][0][3:]!=sel_numerators_lt[x][0][3:]:\n",
    "        raise ValueError('numerators and denominators have different GEMs or order to GEMs')\n",
    "    else:\n",
    "        tempdf=(denominators_lt[x][0][3:], \n",
    "                        pd.concat([denominators_lt[x][1], numerators_lt[x][1]]).drop_duplicates(\n",
    "                        subset=['Metric','MRN','TEST_DATE_a','TEST_CODE'], keep=False))\n",
    "        notnumerators_lt[x]=(tempdf[0],tempdf[1][tempdf[1].TEST_DATE_month.isin(time_period)])\n",
    "    "
   ]
  },
  {
   "cell_type": "code",
   "execution_count": null,
   "metadata": {},
   "outputs": [],
   "source": [
    "#notnumerators_lt[1]"
   ]
  },
  {
   "cell_type": "markdown",
   "metadata": {},
   "source": [
    "At this point,\n",
    "numerators_lt and notnumerators_lt are the analyses' results for assigning numerator status\n",
    "(rather than numerator and denominator)"
   ]
  },
  {
   "cell_type": "code",
   "execution_count": null,
   "metadata": {},
   "outputs": [],
   "source": [
    "for x in notnumerators_lt:\n",
    "    x[1].loc[:,'Term per GEM eval']='Not_Numer'\n",
    "for x in sel_numerators_lt:\n",
    "    x[1].loc[:,'Term per GEM eval']='Numer'\n",
    "    \n",
    "# concatenate them into single dataframes by Metric, w/in individual GEM implementations\n",
    "allterms_lt = [None]*len(numerators_lt)\n",
    "for x in range(len(numerators_lt)):\n",
    "    allterms_lt[x]=(sel_numerators_lt[x][0][3:], pd.concat([notnumerators_lt[x][1], sel_numerators_lt[x][1]]))\n",
    "    allterms_lt[x][1][allterms_lt[x][0]]=1"
   ]
  },
  {
   "cell_type": "code",
   "execution_count": null,
   "metadata": {},
   "outputs": [],
   "source": [
    "for x in allterms_lt:\n",
    "    print(x[0])"
   ]
  },
  {
   "cell_type": "code",
   "execution_count": null,
   "metadata": {},
   "outputs": [],
   "source": [
    "refer = pd.read_csv('../selfreview/newsampling/metricsneeded_'+coded_date+'.csv')"
   ]
  },
  {
   "cell_type": "markdown",
   "metadata": {},
   "source": [
    "### For Performing Samples to Send for Annotation"
   ]
  },
  {
   "cell_type": "code",
   "execution_count": null,
   "metadata": {},
   "outputs": [],
   "source": [
    "listd=list(denominators_lt[1][1].columns.values)\n",
    "listn=list(numerators_lt[1][1].columns.values)"
   ]
  },
  {
   "cell_type": "code",
   "execution_count": null,
   "metadata": {},
   "outputs": [],
   "source": [
    "# dflist[0][1].sort_values('TEST_DATE_a').columns.values\n",
    "listofcolumns10 = ['ADM_DT', 'ADM_DT_a', \n",
    "       'AgeAtTest', 'CLAIM_DATE', 'CLAIM_DATE_culled',\n",
    "       'DISP_AMT', 'DISP_UNIT', 'DIS_DT', 'DOB', 'DOSE_FORM',\n",
    "       'Drug Names', 'FIRST_NAME', 'FREQUENCY',\n",
    "       'GENDER', 'ICD10_subcode', 'ICD10sub_culled', 'IDX_DATE_a',\n",
    "       'MED_NAME', 'MRN', 'MRN_culled', 'Metric', \n",
    "       'RX_DOSE', 'RX_UNIT', 'SURG_CODE', 'SURG_DATE', 'SURG_ENC_ID',\n",
    "       'TEST_CODE', 'TEST_CODE_culled', 'TEST_DATE_a', \n",
    "       'TEST_DATE_culled', 'ccslev', 'ccslev_culled',\n",
    "       'daysBeforeSurg', 'dys_difftime_lastdischarge',\n",
    "       'dys_difftime_noadms_criteria', 'dys_difftime_test_code', 'hcclev',\n",
    "       'hcclev_culled']\n",
    "\n",
    "listofcolumns9= ['ADM_DT', 'ADM_DT_a', \n",
    "       'AgeAtTest', 'CLAIM_DATE', \n",
    "       'DISP_AMT', 'DISP_UNIT', 'DIS_DT', 'DOB',\n",
    "       'Drug Names', 'FIRST_NAME', 'FREQUENCY',\n",
    "       'GENDER', 'ICD9_subcode',\n",
    "                 #'ICD9sub_culled',\n",
    "       'IDX_DATE_a',\n",
    "       'MED_NAME', 'MRN', \n",
    "                 #'MRN_culled', \n",
    "       'Metric', \n",
    "       'RX_DOSE',  'SURG_CODE', 'SURG_DATE', \n",
    "       'TEST_CODE', \n",
    "                 #'TEST_CODE_culled', \n",
    "       'TEST_DATE_a',\n",
    "                 #'TEST_DATE_culled', \n",
    "       'ccslev', \n",
    "                 #'ccslev_culled',\n",
    "       'daysBeforeSurg', 'dys_difftime_lastdischarge',\n",
    "       'dys_difftime_noadms_criteria', 'dys_difftime_test_code', 'hcclev',\n",
    "       #'hcclev_culled', \n",
    "       'rCODE','rMRN']\n",
    "\n",
    "prioritycolumns9  = ['Metric', 'MRN', 'AgeAtTest', 'CLAIM_DATE', 'ICD9_subcode', 'TEST_CODE','Drug Names','DOSE_FORM','TEST_DATE_a', 'hcclev','ccslev', 'ADM_DT','SURG_DATE','dys_difftime_test_code','daysBeforeSurg','dys_difftime_noadms_criteria','dys_difftime_lastdischarge']\n",
    "prioritycolumns10 = ['Metric', 'MRN', 'AgeAtTest', 'CLAIM_DATE', 'ICD10_subcode','TEST_CODE','Drug Names','DOSE_FORM','TEST_DATE_a','hcclev','ccslev', 'ADM_DT','SURG_DATE','dys_difftime_test_code','daysBeforeSurg','dys_difftime_noadms_criteria','dys_difftime_lastdischarge']\n"
   ]
  },
  {
   "cell_type": "code",
   "execution_count": null,
   "metadata": {},
   "outputs": [],
   "source": [
    "bean =0\n",
    "for x in listd:\n",
    "    if x not in listofcolumns9:\n",
    "        print(x)\n",
    "    else:\n",
    "        bean+=1\n",
    "print(bean)"
   ]
  },
  {
   "cell_type": "code",
   "execution_count": null,
   "metadata": {},
   "outputs": [],
   "source": [
    "# declare local arguments\n",
    "dflist=[]\n",
    "toofew = []\n",
    "GEMindex = 1\n",
    "\n",
    "priorityused = prioritycolumns9\n",
    "listXused    = listofcolumns9\n",
    "finalcolumns = priorityused + [x for x in listXused if x not in priorityused]"
   ]
  },
  {
   "cell_type": "code",
   "execution_count": null,
   "metadata": {},
   "outputs": [],
   "source": [
    "tenkeys= ['CW_cerv','CW_card','CW_vitd','CW_bph','CW_lbp','CW_psyc','CW_dexa','CW_narc',\n",
    "             'CW_nonpreop','CW_catpreop']"
   ]
  },
  {
   "cell_type": "code",
   "execution_count": null,
   "metadata": {},
   "outputs": [],
   "source": [
    "# for column name testing --- used for development of sampling method \n",
    "\n",
    "\"\"\"\n",
    "for x in elevenkeys:\n",
    "    print(x)\n",
    "    try:\n",
    "        if x=='CW_feed':\n",
    "            pass # feeding metrics sampled separately due to question of whether ICD procedural codes used\n",
    "        else:\n",
    "            hold_N= sel_numerators_lt[GEMindex][1][sel_numerators_lt[GEMindex][1].Metric==x]\n",
    "            number_N=refer.loc[refer.Metric==x,'Numer needed'].iloc[0]\n",
    "            print('number_N: {}'.format(number_N))\n",
    "\n",
    "            if number_N>0:\n",
    "                if len(hold_N)<number_N:\n",
    "                    pass\n",
    "                else:\n",
    "                    # randomly select cases for review\n",
    "                    hold_N=hold_N.sample(n=number_N, random_state=54)\n",
    "\n",
    "                print('sel_numerators GEM {}, {}'.format(sel_numerators_lt[GEMindex][0],x))\n",
    "                print('notnumerators GEM {}, {}'.format(notnumerators_lt[GEMindex][0],x))\n",
    "            else:\n",
    "                pass\n",
    "            hold_NN= notnumerators_lt[GEMindex][1][notnumerators_lt[GEMindex][1].Metric==x]\n",
    "            number_NN=refer.loc[refer.Metric==x,'Not_Numer needed'].iloc[0]\n",
    "            print('number_NN: {}'.format(number_NN))\n",
    "            if number_NN>0:\n",
    "                if len(hold_NN)<number_NN:\n",
    "                    pass\n",
    "                else: \n",
    "                    # randomly select cases for review\n",
    "                    hold_NN=hold_NN.sample(n=number_NN, random_state=54)\n",
    "            else:\n",
    "                pass\n",
    "            if (number_N+number_NN)>0:\n",
    "                # blind the assignment (numerator/not-numerator) prior to exporting table\n",
    "                outdf = pd.concat([hold_N.drop('Term per GEM eval', axis=1), hold_NN.drop('Term per GEM eval', axis=1)])\n",
    "                try:\n",
    "                    outdf = outdf[finalcolumns].dropna(axis=1, how='all')\n",
    "                    print(outdf.head(2))\n",
    "                except:\n",
    "                    for x in finalcolumns:\n",
    "                        if x not in hold_N:\n",
    "                            print(x)\n",
    "                        elif x not in hold_NN:\n",
    "                            print('NN')\n",
    "                            print(xx)\n",
    "                    raise ValueError('Forced columns are incorrect')\n",
    "                dflist.append((x,outdf.sort_values('TEST_DATE_a')))\n",
    "\n",
    "                if len(hold_N)<number_N or len(hold_NN)<number_NN:\n",
    "                    toofew.append(x)\n",
    "                print('success x1')\n",
    "            else:\n",
    "                print('none required')\n",
    "                pass\n",
    "    except:\n",
    "        print('{} is passed'.format(x))\n",
    "\"\"\""
   ]
  },
  {
   "cell_type": "code",
   "execution_count": null,
   "metadata": {},
   "outputs": [],
   "source": [
    "\n",
    "for x in elevenkeys:\n",
    "    try:\n",
    "        hold_N= sel_numerators_lt[GEMindex][1][sel_numerators_lt[GEMindex][1].Metric==x]\n",
    "        number_N=refer.loc[refer.Metric==x,'Numer needed'].iloc[0]\n",
    "        if len(hold_N)<number_N:\n",
    "            pass\n",
    "        else:\n",
    "            # randomly select cases for iterative review\n",
    "            hold_N=hold_N.sample(n=number_N, random_state=54)\n",
    "\n",
    "        print('sel_numerators GEM {}, {}'.format(sel_numerators_lt[GEMindex][0],x))\n",
    "        print('notnumerators GEM {}, {}'.format(notnumerators_lt[GEMindex][0],x))\n",
    "        hold_NN= notnumerators_lt[GEMindex][1][notnumerators_lt[GEMindex][1].Metric==x]\n",
    "        number_NN=refer.loc[refer.Metric==x,'Not_Numer needed'].iloc[0]\n",
    "        if len(hold_NN)<number_NN:\n",
    "            pass\n",
    "        else: \n",
    "            # randomly select cases for iterative review\n",
    "            hold_NN=hold_NN.sample(n=number_NN, random_state=54)\n",
    "        # blind the assignment prior to exporting cases for iterative review\n",
    "        outdf = pd.concat([hold_N.drop('Term per GEM eval', axis=1), hold_NN.drop('Term per GEM eval', axis=1)])\n",
    "        try:\n",
    "            outdf = outdf[finalcolumns].dropna(axis=1, how='all')\n",
    "        except:\n",
    "            for x in finalcolumns:\n",
    "                if x not in hold_N:\n",
    "                    print(x)\n",
    "                elif x not in hold_NN:\n",
    "                    print('NN')\n",
    "                    print(xx)\n",
    "            raise ValueError('Forced columns are incorrect')\n",
    "        dflist.append((x,outdf.sort_values('TEST_DATE_a')))\n",
    "\n",
    "        if len(hold_N)<number_N or len(hold_NN)<number_NN:\n",
    "            toofew.append(x)\n",
    "        print('success x1')\n",
    "    except:\n",
    "        print('{} is passed'.format(x))\n"
   ]
  },
  {
   "cell_type": "markdown",
   "metadata": {},
   "source": [
    "Now perform special accommodation for feeding tube metric"
   ]
  },
  {
   "cell_type": "code",
   "execution_count": null,
   "metadata": {},
   "outputs": [],
   "source": [
    "# declare local arguments\n",
    "dffeed=[]\n",
    "toofew_f = []\n",
    "# choice of GEM for case review\n",
    "GEMindex = 4\n",
    "\n",
    "priorityused = prioritycolumns10\n",
    "listXused    = listofcolumns10\n",
    "finalcolumns = priorityused + [x for x in listXused if x not in priorityused]"
   ]
  },
  {
   "cell_type": "code",
   "execution_count": null,
   "metadata": {},
   "outputs": [],
   "source": [
    "# this was used to check that no ICD procedural codes were used in patient data\n",
    "for x in ['CW_feed']:\n",
    "    try:\n",
    "        hold_N= sel_numerators_lt[GEMindex][1][sel_numerators_lt[GEMindex][1].Metric==x]\n",
    "        number_N=refer.loc[refer.Metric==x,'Numer needed'].iloc[0]\n",
    "        if len(hold_N)<number_N:\n",
    "            pass\n",
    "        else:\n",
    "            hold_N=hold_N.sample(n=number_N, random_state=54)\n",
    "        \n",
    "        print('sel_numerators GEM {}, {}'.format(sel_numerators_lt[GEMindex][0],x))\n",
    "        print('notnumerators GEM {}, {}'.format(notnumerators_lt[GEMindex][0],x))\n",
    "        hold_NN= notnumerators_lt[GEMindex][1][notnumerators_lt[GEMindex][1].Metric==x]\n",
    "        number_NN=refer.loc[refer.Metric==x,'Not_Numer needed'].iloc[0]\n",
    "        if len(hold_NN)<number_NN:\n",
    "            pass\n",
    "        else: \n",
    "            hold_NN=hold_NN.sample(n=number_NN, random_state=54)\n",
    "        outdf = pd.concat([hold_N.drop('Term per GEM eval', axis=1), hold_NN.drop('Term per GEM eval', axis=1)])\n",
    "        try:\n",
    "            outdf = outdf[finalcolumns].dropna(axis=1, how='all')\n",
    "        except:\n",
    "            raise ValueError('Forced columns are incorrect')\n",
    "        dffeed.append((x,outdf.sort_values('TEST_DATE_a')))\n",
    "        \n",
    "        if len(hold_N)<number_N or len(hold_NN)<number_NN:\n",
    "            toofew_f.append(x)\n",
    "    except:\n",
    "        print('{} is passed'.format(x))"
   ]
  },
  {
   "cell_type": "code",
   "execution_count": null,
   "metadata": {},
   "outputs": [],
   "source": [
    "# export the cases to file to share with reviewers\n",
    "filex = pd.ExcelWriter('../selfreview/newsampling/'+coded_date+'_newsample.xlsx', engine='xlsxwriter')\n",
    "for x in dflist:\n",
    "    x[1].to_excel(filex, x[0])\n",
    "for x in dffeed:\n",
    "    x[1].to_excel(filex, x[0])\n",
    "filex.save()"
   ]
  },
  {
   "cell_type": "code",
   "execution_count": null,
   "metadata": {},
   "outputs": [],
   "source": [
    "avail_lt = pd.concat([x[1].groupby(['Metric','Term per GEM eval']).count() for x in allterms_lt], axis=1)\n",
    "avail_lt = avail_lt[['_'+x for x in GEMdicts]]\n",
    "avail_lt"
   ]
  },
  {
   "cell_type": "code",
   "execution_count": null,
   "metadata": {},
   "outputs": [],
   "source": []
  }
 ],
 "metadata": {
  "kernelspec": {
   "display_name": "Python 3",
   "language": "python",
   "name": "python3"
  },
  "language_info": {
   "codemirror_mode": {
    "name": "ipython",
    "version": 3
   },
   "file_extension": ".py",
   "mimetype": "text/x-python",
   "name": "python",
   "nbconvert_exporter": "python",
   "pygments_lexer": "ipython3",
   "version": "3.7.0"
  }
 },
 "nbformat": 4,
 "nbformat_minor": 1
}
