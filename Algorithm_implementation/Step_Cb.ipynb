{
 "cells": [
  {
   "cell_type": "markdown",
   "metadata": {},
   "source": [
    "## Prepping to use preprocessed annotations for comparisons --- preprocess CW clin data"
   ]
  },
  {
   "cell_type": "markdown",
   "metadata": {},
   "source": [
    "This notebook prepares the 11 metrics across multiple GEMs for comparison with the manual annotations. The numerators are exported in one file, and the denominators in another. There is a more verbose formatting option for the output"
   ]
  },
  {
   "cell_type": "code",
   "execution_count": 9,
   "metadata": {},
   "outputs": [
    {
     "data": {
      "text/plain": [
       "'My local env has loaded.'"
      ]
     },
     "execution_count": 9,
     "metadata": {},
     "output_type": "execute_result"
    }
   ],
   "source": [
    "# Set up local environment\n",
    "from cw_package.setup_cw_env import *\n",
    "from pylab import *\n",
    "from au_package import stitch_metricterms, flag_checker\n",
    "import pickle\n",
    "jacks_verification"
   ]
  },
  {
   "cell_type": "code",
   "execution_count": 1,
   "metadata": {},
   "outputs": [],
   "source": [
    "# define local variables\n",
    "coded_date = '2017_07_12allfeedwith_I10'\n",
    "earliest_date= '2016_04_01'\n",
    "time_period= ['2016_4','2016_5','2016_6','2016_7','2016_8','2016_9']\n",
    "elevenkeys= ['CW_cerv','CW_card','CW_vitd','CW_bph','CW_lbp','CW_feed','CW_psyc','CW_dexa','CW_narc',\n",
    "             'CW_nonpreop','CW_catpreop']\n",
    "stdflag_string= 'as_annotated'\n",
    "longform_indicator=True"
   ]
  },
  {
   "cell_type": "code",
   "execution_count": 11,
   "metadata": {},
   "outputs": [],
   "source": [
    "flag_checker(stdflag_string)"
   ]
  },
  {
   "cell_type": "code",
   "execution_count": 12,
   "metadata": {},
   "outputs": [],
   "source": [
    "# import the metric data, by GEM implementation, prepared in Step_A.ipynb\n",
    "p_10to10 = pd.read_pickle('./exported/'+coded_date+'/pickled_f_10to10_'+coded_date+'.p')\n",
    "pclaimto9_bestMap10 = pd.read_pickle('./exported/'+coded_date+'/pickled_f_claimto9_bestMap10_'+coded_date+'.p')\n",
    "pclaimto9_reimb = pd.read_pickle('./exported/'+coded_date+'/pickled_f_claimto9_reimb_'+coded_date+'.p')\n",
    "prefto10_gems = pd.read_pickle('./exported/'+coded_date+'/pickled_f_refto10_gems_'+coded_date+'.p')\n",
    "prefto10_bestMap9 = pd.read_pickle('./exported/'+coded_date+'/pickled_f_refto10_bestMap9_'+coded_date+'.p')\n",
    "\n",
    "pickledlist= [p_10to10, pclaimto9_bestMap10, pclaimto9_reimb, prefto10_gems, prefto10_bestMap9]\n",
    "\n"
   ]
  },
  {
   "cell_type": "code",
   "execution_count": 13,
   "metadata": {},
   "outputs": [],
   "source": [
    "def insertkey_to_df(dicty):\n",
    "    dicty['denominator']=dicty['denominator'].assign(Metric=x)\n",
    "    dicty['numerator']=dicty['numerator'].assign(Metric=x)\n",
    "    return dicty\n",
    "\n",
    "for dictx in pickledlist:\n",
    "    for x,y in dictx.items():\n",
    "        try:\n",
    "            insertkey_to_df(y)\n",
    "        except:\n",
    "            print('pass')"
   ]
  },
  {
   "cell_type": "code",
   "execution_count": 14,
   "metadata": {
    "collapsed": true
   },
   "outputs": [],
   "source": [
    "num_10to10 = stitch_metricterms(p_10to10, 'numerator', longform_indicator)\n",
    "num_claimto9best = stitch_metricterms(pclaimto9_bestMap10, 'numerator', longform_indicator)\n",
    "num_claimto9reimb = stitch_metricterms(pclaimto9_reimb, 'numerator',longform_indicator)\n",
    "num_refto10best = stitch_metricterms(prefto10_bestMap9, 'numerator',longform_indicator)\n",
    "num_refto10gems = stitch_metricterms(prefto10_gems, 'numerator',longform_indicator)\n",
    "\n",
    "den_10to10 =       stitch_metricterms(p_10to10,'denominator', longform_indicator)\n",
    "den_claimto9best = stitch_metricterms(pclaimto9_bestMap10, 'denominator',longform_indicator)\n",
    "den_claimto9reimb = stitch_metricterms(pclaimto9_reimb, 'denominator',longform_indicator)\n",
    "den_refto10best = stitch_metricterms(prefto10_bestMap9, 'denominator',longform_indicator)\n",
    "den_refto10gems = stitch_metricterms(prefto10_gems, 'denominator',longform_indicator)\n",
    "\n",
    "numerator_lt = [('num_10to10',num_10to10),('num_claimto9best',num_claimto9best),('num_claimto9reimb',num_claimto9reimb),\n",
    "             ('num_refto10best',num_refto10best), ('num_refto10gems',num_refto10gems)]\n",
    "\n",
    "denominator_lt = [('den_10to10',den_10to10),('den_claimto9best',den_claimto9best),('den_claimto9reimb',den_claimto9reimb),\n",
    "              ('den_refto10best',den_refto10best),('den_refto10gems',den_refto10gems)]"
   ]
  },
  {
   "cell_type": "markdown",
   "metadata": {},
   "source": [
    "#### Export preprocessed metric data"
   ]
  },
  {
   "cell_type": "code",
   "execution_count": 15,
   "metadata": {},
   "outputs": [],
   "source": [
    "try:\n",
    "    os.mkdir('preprocessed/'+coded_date)\n",
    "except:\n",
    "    pass\n"
   ]
  },
  {
   "cell_type": "code",
   "execution_count": 16,
   "metadata": {},
   "outputs": [],
   "source": [
    "if longform_indicator is False:\n",
    "    f= open('./preprocessed/'+coded_date+'/pickled_compilednumerators_'+coded_date+'.p','w')\n",
    "    pickle.dump(numerator_lt, f)\n",
    "    f.close()\n",
    "\n",
    "    f= open('./preprocessed/'+coded_date+'/pickled_compileddenominators_'+coded_date+'.p','w')\n",
    "    pickle.dump(denominator_lt, f)\n",
    "    f.close()\n",
    "else:\n",
    "    f= open('./preprocessed/'+coded_date+'/pickled_compilednumerators_'+coded_date+'_long.p','w')\n",
    "    pickle.dump(numerator_lt, f)\n",
    "    f.close()\n",
    "\n",
    "    f= open('./preprocessed/'+coded_date+'/pickled_compileddenominators_'+coded_date+'_long.p','w')\n",
    "    pickle.dump(denominator_lt, f)\n",
    "    f.close()"
   ]
  },
  {
   "cell_type": "markdown",
   "metadata": {},
   "source": [
    "The End"
   ]
  },
  {
   "cell_type": "code",
   "execution_count": null,
   "metadata": {
    "collapsed": true
   },
   "outputs": [],
   "source": []
  }
 ],
 "metadata": {
  "kernelspec": {
   "display_name": "Python 3",
   "language": "python",
   "name": "python3"
  },
  "language_info": {
   "codemirror_mode": {
    "name": "ipython",
    "version": 3
   },
   "file_extension": ".py",
   "mimetype": "text/x-python",
   "name": "python",
   "nbconvert_exporter": "python",
   "pygments_lexer": "ipython3",
   "version": "3.7.0"
  }
 },
 "nbformat": 4,
 "nbformat_minor": 1
}
